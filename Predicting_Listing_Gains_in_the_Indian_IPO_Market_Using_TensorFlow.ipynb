{
  "nbformat": 4,
  "nbformat_minor": 0,
  "metadata": {
    "colab": {
      "provenance": []
    },
    "kernelspec": {
      "name": "python3",
      "display_name": "Python 3"
    },
    "language_info": {
      "name": "python"
    }
  },
  "cells": [
    {
      "cell_type": "markdown",
      "source": [
        "#***Guided Project: Predicting Listing Gains in the Indian IPO Market Using TensorFlow***\n",
        "\n"
      ],
      "metadata": {
        "id": "2-nD4UIIu1t4"
      }
    },
    {
      "cell_type": "markdown",
      "source": [
        "##**Project Overview:**\n",
        "\n",
        "\n",
        "*   In this project, I leverage TensorFlow's deep learning capabilities to forecast listing gains for Indian IPOs. Acting as a Data Scientist for an investment firm, I aim to assess if an IPO (**Initial Public Offerings**) will see a positive price movement on its listing day compared to the issue price.\n",
        "\n"
      ],
      "metadata": {
        "id": "LdHE8hkPvXaT"
      }
    },
    {
      "cell_type": "markdown",
      "source": [
        "##**Objective:**\n",
        "\n",
        "\n",
        "*   This project aims to develop a deep learning-based classification model to predict IPO listing gains in the Indian market using key factors like issue size, subscription rates across investor segments, issue price, and other relevant features.\n",
        "\n",
        "\n"
      ],
      "metadata": {
        "id": "mSuzMgLHvsU6"
      }
    },
    {
      "cell_type": "markdown",
      "source": [
        "##**Data Dictionary**\n",
        "\n",
        "**The data consists of following columns:**\n",
        "\n",
        "\n",
        "*   **Date:** date when the IPO was listed\n",
        "\n",
        "*  **IPOName:** name of the IPO\n",
        "\n",
        "*   **Issue_Size:** size of the IPO issue, in INR Crores\n",
        "\n",
        "*   **Subscription_QIB:** number of times the IPO was subscribed by the QIB (Qualified Institutional Buyer) investor category\n",
        "\n",
        "*   **Subscription_HNI:** number of times the IPO was subscribed by the HNI (High Networth Individual) investor category\n",
        "*   **Subscription_RII:** number of times the IPO was subscribed by the RII (Retail Individual Investors) investor category\n",
        "\n",
        "\n",
        "*   **Subscription_Total:** total number of times the IPO was subscribed overall\n",
        "\n",
        "\n",
        "*   **Issue_Price:** the price in INR at which the IPO was issued\n",
        "\n",
        "\n",
        "*   **Listing_Gains_Percent:** is the percentage gain in the listing price over the issue price\n",
        "\n"
      ],
      "metadata": {
        "id": "i1kyUqEcxwpT"
      }
    },
    {
      "cell_type": "code",
      "execution_count": 19,
      "metadata": {
        "id": "ZH6Vdm0XuNaO"
      },
      "outputs": [],
      "source": [
        "#importing necessary libraries\n",
        "\n",
        "import pandas as pd\n",
        "import pandas as pd\n",
        "import numpy as np\n",
        "import seaborn as sns\n",
        "import matplotlib.pyplot as plt\n",
        "\n",
        "import tensorflow as tf\n",
        "import warnings\n",
        "\n",
        "warnings.filterwarnings('ignore')\n",
        "\n",
        "from tensorflow import keras\n",
        "from tensorflow.keras import layers\n",
        "from sklearn.model_selection import train_test_split\n",
        "from sklearn.preprocessing import MinMaxScaler\n",
        "from tensorflow.keras.models import Sequential\n",
        "from tensorflow.keras.layers import Dense, Dropout\n",
        "from keras import regularizers\n"
      ]
    },
    {
      "cell_type": "code",
      "source": [
        "df = pd.read_csv('/content/drive/MyDrive/Indian_IPO_Market_Data.csv')\n",
        "df.head()"
      ],
      "metadata": {
        "colab": {
          "base_uri": "https://localhost:8080/",
          "height": 206
        },
        "id": "4gCGenC5uuku",
        "outputId": "a62e0135-d313-476d-b2fd-2389559783cc"
      },
      "execution_count": 2,
      "outputs": [
        {
          "output_type": "execute_result",
          "data": {
            "text/plain": [
              "      Date           IPOName  Issue_Size  Subscription_QIB  Subscription_HNI  \\\n",
              "0  03/02/10    Infinite Comp      189.80             48.44            106.02   \n",
              "1  08/02/10    Jubilant Food      328.70             59.39             51.95   \n",
              "2  15/02/10    Syncom Health       56.25              0.99             16.60   \n",
              "3  15/02/10  Vascon Engineer      199.80              1.12              3.65   \n",
              "4  19/02/10      Thangamayil        0.00              0.52              1.52   \n",
              "\n",
              "   Subscription_RII  Subscription_Total  Issue_Price  Listing_Gains_Percent  \n",
              "0             11.08               43.22          165                  11.82  \n",
              "1              3.79               31.11          145                 -84.21  \n",
              "2              6.25                5.17           75                  17.13  \n",
              "3              0.62                1.22          165                 -11.28  \n",
              "4              2.26                1.12           75                  -5.20  "
            ],
            "text/html": [
              "\n",
              "  <div id=\"df-186ebbb4-d59f-48d1-b4da-c1ea30d982b7\" class=\"colab-df-container\">\n",
              "    <div>\n",
              "<style scoped>\n",
              "    .dataframe tbody tr th:only-of-type {\n",
              "        vertical-align: middle;\n",
              "    }\n",
              "\n",
              "    .dataframe tbody tr th {\n",
              "        vertical-align: top;\n",
              "    }\n",
              "\n",
              "    .dataframe thead th {\n",
              "        text-align: right;\n",
              "    }\n",
              "</style>\n",
              "<table border=\"1\" class=\"dataframe\">\n",
              "  <thead>\n",
              "    <tr style=\"text-align: right;\">\n",
              "      <th></th>\n",
              "      <th>Date</th>\n",
              "      <th>IPOName</th>\n",
              "      <th>Issue_Size</th>\n",
              "      <th>Subscription_QIB</th>\n",
              "      <th>Subscription_HNI</th>\n",
              "      <th>Subscription_RII</th>\n",
              "      <th>Subscription_Total</th>\n",
              "      <th>Issue_Price</th>\n",
              "      <th>Listing_Gains_Percent</th>\n",
              "    </tr>\n",
              "  </thead>\n",
              "  <tbody>\n",
              "    <tr>\n",
              "      <th>0</th>\n",
              "      <td>03/02/10</td>\n",
              "      <td>Infinite Comp</td>\n",
              "      <td>189.80</td>\n",
              "      <td>48.44</td>\n",
              "      <td>106.02</td>\n",
              "      <td>11.08</td>\n",
              "      <td>43.22</td>\n",
              "      <td>165</td>\n",
              "      <td>11.82</td>\n",
              "    </tr>\n",
              "    <tr>\n",
              "      <th>1</th>\n",
              "      <td>08/02/10</td>\n",
              "      <td>Jubilant Food</td>\n",
              "      <td>328.70</td>\n",
              "      <td>59.39</td>\n",
              "      <td>51.95</td>\n",
              "      <td>3.79</td>\n",
              "      <td>31.11</td>\n",
              "      <td>145</td>\n",
              "      <td>-84.21</td>\n",
              "    </tr>\n",
              "    <tr>\n",
              "      <th>2</th>\n",
              "      <td>15/02/10</td>\n",
              "      <td>Syncom Health</td>\n",
              "      <td>56.25</td>\n",
              "      <td>0.99</td>\n",
              "      <td>16.60</td>\n",
              "      <td>6.25</td>\n",
              "      <td>5.17</td>\n",
              "      <td>75</td>\n",
              "      <td>17.13</td>\n",
              "    </tr>\n",
              "    <tr>\n",
              "      <th>3</th>\n",
              "      <td>15/02/10</td>\n",
              "      <td>Vascon Engineer</td>\n",
              "      <td>199.80</td>\n",
              "      <td>1.12</td>\n",
              "      <td>3.65</td>\n",
              "      <td>0.62</td>\n",
              "      <td>1.22</td>\n",
              "      <td>165</td>\n",
              "      <td>-11.28</td>\n",
              "    </tr>\n",
              "    <tr>\n",
              "      <th>4</th>\n",
              "      <td>19/02/10</td>\n",
              "      <td>Thangamayil</td>\n",
              "      <td>0.00</td>\n",
              "      <td>0.52</td>\n",
              "      <td>1.52</td>\n",
              "      <td>2.26</td>\n",
              "      <td>1.12</td>\n",
              "      <td>75</td>\n",
              "      <td>-5.20</td>\n",
              "    </tr>\n",
              "  </tbody>\n",
              "</table>\n",
              "</div>\n",
              "    <div class=\"colab-df-buttons\">\n",
              "\n",
              "  <div class=\"colab-df-container\">\n",
              "    <button class=\"colab-df-convert\" onclick=\"convertToInteractive('df-186ebbb4-d59f-48d1-b4da-c1ea30d982b7')\"\n",
              "            title=\"Convert this dataframe to an interactive table.\"\n",
              "            style=\"display:none;\">\n",
              "\n",
              "  <svg xmlns=\"http://www.w3.org/2000/svg\" height=\"24px\" viewBox=\"0 -960 960 960\">\n",
              "    <path d=\"M120-120v-720h720v720H120Zm60-500h600v-160H180v160Zm220 220h160v-160H400v160Zm0 220h160v-160H400v160ZM180-400h160v-160H180v160Zm440 0h160v-160H620v160ZM180-180h160v-160H180v160Zm440 0h160v-160H620v160Z\"/>\n",
              "  </svg>\n",
              "    </button>\n",
              "\n",
              "  <style>\n",
              "    .colab-df-container {\n",
              "      display:flex;\n",
              "      gap: 12px;\n",
              "    }\n",
              "\n",
              "    .colab-df-convert {\n",
              "      background-color: #E8F0FE;\n",
              "      border: none;\n",
              "      border-radius: 50%;\n",
              "      cursor: pointer;\n",
              "      display: none;\n",
              "      fill: #1967D2;\n",
              "      height: 32px;\n",
              "      padding: 0 0 0 0;\n",
              "      width: 32px;\n",
              "    }\n",
              "\n",
              "    .colab-df-convert:hover {\n",
              "      background-color: #E2EBFA;\n",
              "      box-shadow: 0px 1px 2px rgba(60, 64, 67, 0.3), 0px 1px 3px 1px rgba(60, 64, 67, 0.15);\n",
              "      fill: #174EA6;\n",
              "    }\n",
              "\n",
              "    .colab-df-buttons div {\n",
              "      margin-bottom: 4px;\n",
              "    }\n",
              "\n",
              "    [theme=dark] .colab-df-convert {\n",
              "      background-color: #3B4455;\n",
              "      fill: #D2E3FC;\n",
              "    }\n",
              "\n",
              "    [theme=dark] .colab-df-convert:hover {\n",
              "      background-color: #434B5C;\n",
              "      box-shadow: 0px 1px 3px 1px rgba(0, 0, 0, 0.15);\n",
              "      filter: drop-shadow(0px 1px 2px rgba(0, 0, 0, 0.3));\n",
              "      fill: #FFFFFF;\n",
              "    }\n",
              "  </style>\n",
              "\n",
              "    <script>\n",
              "      const buttonEl =\n",
              "        document.querySelector('#df-186ebbb4-d59f-48d1-b4da-c1ea30d982b7 button.colab-df-convert');\n",
              "      buttonEl.style.display =\n",
              "        google.colab.kernel.accessAllowed ? 'block' : 'none';\n",
              "\n",
              "      async function convertToInteractive(key) {\n",
              "        const element = document.querySelector('#df-186ebbb4-d59f-48d1-b4da-c1ea30d982b7');\n",
              "        const dataTable =\n",
              "          await google.colab.kernel.invokeFunction('convertToInteractive',\n",
              "                                                    [key], {});\n",
              "        if (!dataTable) return;\n",
              "\n",
              "        const docLinkHtml = 'Like what you see? Visit the ' +\n",
              "          '<a target=\"_blank\" href=https://colab.research.google.com/notebooks/data_table.ipynb>data table notebook</a>'\n",
              "          + ' to learn more about interactive tables.';\n",
              "        element.innerHTML = '';\n",
              "        dataTable['output_type'] = 'display_data';\n",
              "        await google.colab.output.renderOutput(dataTable, element);\n",
              "        const docLink = document.createElement('div');\n",
              "        docLink.innerHTML = docLinkHtml;\n",
              "        element.appendChild(docLink);\n",
              "      }\n",
              "    </script>\n",
              "  </div>\n",
              "\n",
              "\n",
              "    <div id=\"df-7b57e940-35aa-4a4c-bb24-4ca1fb3ec520\">\n",
              "      <button class=\"colab-df-quickchart\" onclick=\"quickchart('df-7b57e940-35aa-4a4c-bb24-4ca1fb3ec520')\"\n",
              "                title=\"Suggest charts\"\n",
              "                style=\"display:none;\">\n",
              "\n",
              "<svg xmlns=\"http://www.w3.org/2000/svg\" height=\"24px\"viewBox=\"0 0 24 24\"\n",
              "     width=\"24px\">\n",
              "    <g>\n",
              "        <path d=\"M19 3H5c-1.1 0-2 .9-2 2v14c0 1.1.9 2 2 2h14c1.1 0 2-.9 2-2V5c0-1.1-.9-2-2-2zM9 17H7v-7h2v7zm4 0h-2V7h2v10zm4 0h-2v-4h2v4z\"/>\n",
              "    </g>\n",
              "</svg>\n",
              "      </button>\n",
              "\n",
              "<style>\n",
              "  .colab-df-quickchart {\n",
              "      --bg-color: #E8F0FE;\n",
              "      --fill-color: #1967D2;\n",
              "      --hover-bg-color: #E2EBFA;\n",
              "      --hover-fill-color: #174EA6;\n",
              "      --disabled-fill-color: #AAA;\n",
              "      --disabled-bg-color: #DDD;\n",
              "  }\n",
              "\n",
              "  [theme=dark] .colab-df-quickchart {\n",
              "      --bg-color: #3B4455;\n",
              "      --fill-color: #D2E3FC;\n",
              "      --hover-bg-color: #434B5C;\n",
              "      --hover-fill-color: #FFFFFF;\n",
              "      --disabled-bg-color: #3B4455;\n",
              "      --disabled-fill-color: #666;\n",
              "  }\n",
              "\n",
              "  .colab-df-quickchart {\n",
              "    background-color: var(--bg-color);\n",
              "    border: none;\n",
              "    border-radius: 50%;\n",
              "    cursor: pointer;\n",
              "    display: none;\n",
              "    fill: var(--fill-color);\n",
              "    height: 32px;\n",
              "    padding: 0;\n",
              "    width: 32px;\n",
              "  }\n",
              "\n",
              "  .colab-df-quickchart:hover {\n",
              "    background-color: var(--hover-bg-color);\n",
              "    box-shadow: 0 1px 2px rgba(60, 64, 67, 0.3), 0 1px 3px 1px rgba(60, 64, 67, 0.15);\n",
              "    fill: var(--button-hover-fill-color);\n",
              "  }\n",
              "\n",
              "  .colab-df-quickchart-complete:disabled,\n",
              "  .colab-df-quickchart-complete:disabled:hover {\n",
              "    background-color: var(--disabled-bg-color);\n",
              "    fill: var(--disabled-fill-color);\n",
              "    box-shadow: none;\n",
              "  }\n",
              "\n",
              "  .colab-df-spinner {\n",
              "    border: 2px solid var(--fill-color);\n",
              "    border-color: transparent;\n",
              "    border-bottom-color: var(--fill-color);\n",
              "    animation:\n",
              "      spin 1s steps(1) infinite;\n",
              "  }\n",
              "\n",
              "  @keyframes spin {\n",
              "    0% {\n",
              "      border-color: transparent;\n",
              "      border-bottom-color: var(--fill-color);\n",
              "      border-left-color: var(--fill-color);\n",
              "    }\n",
              "    20% {\n",
              "      border-color: transparent;\n",
              "      border-left-color: var(--fill-color);\n",
              "      border-top-color: var(--fill-color);\n",
              "    }\n",
              "    30% {\n",
              "      border-color: transparent;\n",
              "      border-left-color: var(--fill-color);\n",
              "      border-top-color: var(--fill-color);\n",
              "      border-right-color: var(--fill-color);\n",
              "    }\n",
              "    40% {\n",
              "      border-color: transparent;\n",
              "      border-right-color: var(--fill-color);\n",
              "      border-top-color: var(--fill-color);\n",
              "    }\n",
              "    60% {\n",
              "      border-color: transparent;\n",
              "      border-right-color: var(--fill-color);\n",
              "    }\n",
              "    80% {\n",
              "      border-color: transparent;\n",
              "      border-right-color: var(--fill-color);\n",
              "      border-bottom-color: var(--fill-color);\n",
              "    }\n",
              "    90% {\n",
              "      border-color: transparent;\n",
              "      border-bottom-color: var(--fill-color);\n",
              "    }\n",
              "  }\n",
              "</style>\n",
              "\n",
              "      <script>\n",
              "        async function quickchart(key) {\n",
              "          const quickchartButtonEl =\n",
              "            document.querySelector('#' + key + ' button');\n",
              "          quickchartButtonEl.disabled = true;  // To prevent multiple clicks.\n",
              "          quickchartButtonEl.classList.add('colab-df-spinner');\n",
              "          try {\n",
              "            const charts = await google.colab.kernel.invokeFunction(\n",
              "                'suggestCharts', [key], {});\n",
              "          } catch (error) {\n",
              "            console.error('Error during call to suggestCharts:', error);\n",
              "          }\n",
              "          quickchartButtonEl.classList.remove('colab-df-spinner');\n",
              "          quickchartButtonEl.classList.add('colab-df-quickchart-complete');\n",
              "        }\n",
              "        (() => {\n",
              "          let quickchartButtonEl =\n",
              "            document.querySelector('#df-7b57e940-35aa-4a4c-bb24-4ca1fb3ec520 button');\n",
              "          quickchartButtonEl.style.display =\n",
              "            google.colab.kernel.accessAllowed ? 'block' : 'none';\n",
              "        })();\n",
              "      </script>\n",
              "    </div>\n",
              "\n",
              "    </div>\n",
              "  </div>\n"
            ],
            "application/vnd.google.colaboratory.intrinsic+json": {
              "type": "dataframe",
              "variable_name": "df",
              "summary": "{\n  \"name\": \"df\",\n  \"rows\": 319,\n  \"fields\": [\n    {\n      \"column\": \"Date \",\n      \"properties\": {\n        \"dtype\": \"object\",\n        \"num_unique_values\": 287,\n        \"samples\": [\n          \"11/03/10\",\n          \"23/11/21\",\n          \"21/03/17\"\n        ],\n        \"semantic_type\": \"\",\n        \"description\": \"\"\n      }\n    },\n    {\n      \"column\": \"IPOName\",\n      \"properties\": {\n        \"dtype\": \"string\",\n        \"num_unique_values\": 319,\n        \"samples\": [\n          \"Sanghvi Forging\",\n          \"Sterling Wilson\",\n          \"Jaypee Infra\"\n        ],\n        \"semantic_type\": \"\",\n        \"description\": \"\"\n      }\n    },\n    {\n      \"column\": \"Issue_Size\",\n      \"properties\": {\n        \"dtype\": \"number\",\n        \"std\": 2384.6437861648546,\n        \"min\": 0.0,\n        \"max\": 21000.0,\n        \"num_unique_values\": 287,\n        \"samples\": [\n          103.0,\n          1209.0,\n          1243.0\n        ],\n        \"semantic_type\": \"\",\n        \"description\": \"\"\n      }\n    },\n    {\n      \"column\": \"Subscription_QIB\",\n      \"properties\": {\n        \"dtype\": \"number\",\n        \"std\": 40.71678181276687,\n        \"min\": 0.0,\n        \"max\": 215.45,\n        \"num_unique_values\": 275,\n        \"samples\": [\n          20.38,\n          51.62,\n          57.18\n        ],\n        \"semantic_type\": \"\",\n        \"description\": \"\"\n      }\n    },\n    {\n      \"column\": \"Subscription_HNI\",\n      \"properties\": {\n        \"dtype\": \"number\",\n        \"std\": 142.45441592870466,\n        \"min\": 0.0,\n        \"max\": 958.07,\n        \"num_unique_values\": 289,\n        \"samples\": [\n          13.91,\n          10.39,\n          56.3\n        ],\n        \"semantic_type\": \"\",\n        \"description\": \"\"\n      }\n    },\n    {\n      \"column\": \"Subscription_RII\",\n      \"properties\": {\n        \"dtype\": \"number\",\n        \"std\": 14.508670004435576,\n        \"min\": 0.0,\n        \"max\": 119.44,\n        \"num_unique_values\": 279,\n        \"samples\": [\n          6.62,\n          4.24,\n          14.07\n        ],\n        \"semantic_type\": \"\",\n        \"description\": \"\"\n      }\n    },\n    {\n      \"column\": \"Subscription_Total\",\n      \"properties\": {\n        \"dtype\": \"number\",\n        \"std\": 48.77220291371759,\n        \"min\": 0.0,\n        \"max\": 326.49,\n        \"num_unique_values\": 278,\n        \"samples\": [\n          13.69,\n          40.68,\n          26.54\n        ],\n        \"semantic_type\": \"\",\n        \"description\": \"\"\n      }\n    },\n    {\n      \"column\": \"Issue_Price\",\n      \"properties\": {\n        \"dtype\": \"number\",\n        \"std\": 353,\n        \"min\": 0,\n        \"max\": 2150,\n        \"num_unique_values\": 232,\n        \"samples\": [\n          68,\n          138,\n          252\n        ],\n        \"semantic_type\": \"\",\n        \"description\": \"\"\n      }\n    },\n    {\n      \"column\": \"Listing_Gains_Percent\",\n      \"properties\": {\n        \"dtype\": \"number\",\n        \"std\": 47.65094637248467,\n        \"min\": -97.15,\n        \"max\": 270.4,\n        \"num_unique_values\": 312,\n        \"samples\": [\n          21.36,\n          63.62,\n          -9.71\n        ],\n        \"semantic_type\": \"\",\n        \"description\": \"\"\n      }\n    }\n  ]\n}"
            }
          },
          "metadata": {},
          "execution_count": 2
        }
      ]
    },
    {
      "cell_type": "code",
      "source": [
        "df.tail()"
      ],
      "metadata": {
        "colab": {
          "base_uri": "https://localhost:8080/",
          "height": 206
        },
        "id": "hZShqZGQuxNJ",
        "outputId": "529d228a-2804-4d96-8e3e-5d4e15097294"
      },
      "execution_count": 3,
      "outputs": [
        {
          "output_type": "execute_result",
          "data": {
            "text/plain": [
              "        Date           IPOName  Issue_Size  Subscription_QIB  \\\n",
              "314  26/08/22        Syrma SGS      840.13             42.42   \n",
              "315  06/09/22  Dreamfolks Serv      562.10             27.48   \n",
              "316  15/09/22              TMB      792.00              0.51   \n",
              "317  26/09/22  Harsha Engineer      755.00            113.82   \n",
              "318  17/10/22  Electronics Mar      500.00             58.81   \n",
              "\n",
              "     Subscription_HNI  Subscription_RII  Subscription_Total  Issue_Price  \\\n",
              "314              7.13              2.84               15.59          220   \n",
              "315             14.18             24.19               23.25          326   \n",
              "316              1.77              3.44                1.39          525   \n",
              "317             40.36             12.44               47.19          330   \n",
              "318             15.39              8.27               24.23           59   \n",
              "\n",
              "     Listing_Gains_Percent  \n",
              "314                  42.30  \n",
              "315                  41.92  \n",
              "316                  -3.15  \n",
              "317                  47.24  \n",
              "318                  43.14  "
            ],
            "text/html": [
              "\n",
              "  <div id=\"df-7340faca-73af-48e8-8633-2016ddaf0da1\" class=\"colab-df-container\">\n",
              "    <div>\n",
              "<style scoped>\n",
              "    .dataframe tbody tr th:only-of-type {\n",
              "        vertical-align: middle;\n",
              "    }\n",
              "\n",
              "    .dataframe tbody tr th {\n",
              "        vertical-align: top;\n",
              "    }\n",
              "\n",
              "    .dataframe thead th {\n",
              "        text-align: right;\n",
              "    }\n",
              "</style>\n",
              "<table border=\"1\" class=\"dataframe\">\n",
              "  <thead>\n",
              "    <tr style=\"text-align: right;\">\n",
              "      <th></th>\n",
              "      <th>Date</th>\n",
              "      <th>IPOName</th>\n",
              "      <th>Issue_Size</th>\n",
              "      <th>Subscription_QIB</th>\n",
              "      <th>Subscription_HNI</th>\n",
              "      <th>Subscription_RII</th>\n",
              "      <th>Subscription_Total</th>\n",
              "      <th>Issue_Price</th>\n",
              "      <th>Listing_Gains_Percent</th>\n",
              "    </tr>\n",
              "  </thead>\n",
              "  <tbody>\n",
              "    <tr>\n",
              "      <th>314</th>\n",
              "      <td>26/08/22</td>\n",
              "      <td>Syrma SGS</td>\n",
              "      <td>840.13</td>\n",
              "      <td>42.42</td>\n",
              "      <td>7.13</td>\n",
              "      <td>2.84</td>\n",
              "      <td>15.59</td>\n",
              "      <td>220</td>\n",
              "      <td>42.30</td>\n",
              "    </tr>\n",
              "    <tr>\n",
              "      <th>315</th>\n",
              "      <td>06/09/22</td>\n",
              "      <td>Dreamfolks Serv</td>\n",
              "      <td>562.10</td>\n",
              "      <td>27.48</td>\n",
              "      <td>14.18</td>\n",
              "      <td>24.19</td>\n",
              "      <td>23.25</td>\n",
              "      <td>326</td>\n",
              "      <td>41.92</td>\n",
              "    </tr>\n",
              "    <tr>\n",
              "      <th>316</th>\n",
              "      <td>15/09/22</td>\n",
              "      <td>TMB</td>\n",
              "      <td>792.00</td>\n",
              "      <td>0.51</td>\n",
              "      <td>1.77</td>\n",
              "      <td>3.44</td>\n",
              "      <td>1.39</td>\n",
              "      <td>525</td>\n",
              "      <td>-3.15</td>\n",
              "    </tr>\n",
              "    <tr>\n",
              "      <th>317</th>\n",
              "      <td>26/09/22</td>\n",
              "      <td>Harsha Engineer</td>\n",
              "      <td>755.00</td>\n",
              "      <td>113.82</td>\n",
              "      <td>40.36</td>\n",
              "      <td>12.44</td>\n",
              "      <td>47.19</td>\n",
              "      <td>330</td>\n",
              "      <td>47.24</td>\n",
              "    </tr>\n",
              "    <tr>\n",
              "      <th>318</th>\n",
              "      <td>17/10/22</td>\n",
              "      <td>Electronics Mar</td>\n",
              "      <td>500.00</td>\n",
              "      <td>58.81</td>\n",
              "      <td>15.39</td>\n",
              "      <td>8.27</td>\n",
              "      <td>24.23</td>\n",
              "      <td>59</td>\n",
              "      <td>43.14</td>\n",
              "    </tr>\n",
              "  </tbody>\n",
              "</table>\n",
              "</div>\n",
              "    <div class=\"colab-df-buttons\">\n",
              "\n",
              "  <div class=\"colab-df-container\">\n",
              "    <button class=\"colab-df-convert\" onclick=\"convertToInteractive('df-7340faca-73af-48e8-8633-2016ddaf0da1')\"\n",
              "            title=\"Convert this dataframe to an interactive table.\"\n",
              "            style=\"display:none;\">\n",
              "\n",
              "  <svg xmlns=\"http://www.w3.org/2000/svg\" height=\"24px\" viewBox=\"0 -960 960 960\">\n",
              "    <path d=\"M120-120v-720h720v720H120Zm60-500h600v-160H180v160Zm220 220h160v-160H400v160Zm0 220h160v-160H400v160ZM180-400h160v-160H180v160Zm440 0h160v-160H620v160ZM180-180h160v-160H180v160Zm440 0h160v-160H620v160Z\"/>\n",
              "  </svg>\n",
              "    </button>\n",
              "\n",
              "  <style>\n",
              "    .colab-df-container {\n",
              "      display:flex;\n",
              "      gap: 12px;\n",
              "    }\n",
              "\n",
              "    .colab-df-convert {\n",
              "      background-color: #E8F0FE;\n",
              "      border: none;\n",
              "      border-radius: 50%;\n",
              "      cursor: pointer;\n",
              "      display: none;\n",
              "      fill: #1967D2;\n",
              "      height: 32px;\n",
              "      padding: 0 0 0 0;\n",
              "      width: 32px;\n",
              "    }\n",
              "\n",
              "    .colab-df-convert:hover {\n",
              "      background-color: #E2EBFA;\n",
              "      box-shadow: 0px 1px 2px rgba(60, 64, 67, 0.3), 0px 1px 3px 1px rgba(60, 64, 67, 0.15);\n",
              "      fill: #174EA6;\n",
              "    }\n",
              "\n",
              "    .colab-df-buttons div {\n",
              "      margin-bottom: 4px;\n",
              "    }\n",
              "\n",
              "    [theme=dark] .colab-df-convert {\n",
              "      background-color: #3B4455;\n",
              "      fill: #D2E3FC;\n",
              "    }\n",
              "\n",
              "    [theme=dark] .colab-df-convert:hover {\n",
              "      background-color: #434B5C;\n",
              "      box-shadow: 0px 1px 3px 1px rgba(0, 0, 0, 0.15);\n",
              "      filter: drop-shadow(0px 1px 2px rgba(0, 0, 0, 0.3));\n",
              "      fill: #FFFFFF;\n",
              "    }\n",
              "  </style>\n",
              "\n",
              "    <script>\n",
              "      const buttonEl =\n",
              "        document.querySelector('#df-7340faca-73af-48e8-8633-2016ddaf0da1 button.colab-df-convert');\n",
              "      buttonEl.style.display =\n",
              "        google.colab.kernel.accessAllowed ? 'block' : 'none';\n",
              "\n",
              "      async function convertToInteractive(key) {\n",
              "        const element = document.querySelector('#df-7340faca-73af-48e8-8633-2016ddaf0da1');\n",
              "        const dataTable =\n",
              "          await google.colab.kernel.invokeFunction('convertToInteractive',\n",
              "                                                    [key], {});\n",
              "        if (!dataTable) return;\n",
              "\n",
              "        const docLinkHtml = 'Like what you see? Visit the ' +\n",
              "          '<a target=\"_blank\" href=https://colab.research.google.com/notebooks/data_table.ipynb>data table notebook</a>'\n",
              "          + ' to learn more about interactive tables.';\n",
              "        element.innerHTML = '';\n",
              "        dataTable['output_type'] = 'display_data';\n",
              "        await google.colab.output.renderOutput(dataTable, element);\n",
              "        const docLink = document.createElement('div');\n",
              "        docLink.innerHTML = docLinkHtml;\n",
              "        element.appendChild(docLink);\n",
              "      }\n",
              "    </script>\n",
              "  </div>\n",
              "\n",
              "\n",
              "    <div id=\"df-f92b34c8-bda6-4f8c-9abf-ed7b1ee2ea92\">\n",
              "      <button class=\"colab-df-quickchart\" onclick=\"quickchart('df-f92b34c8-bda6-4f8c-9abf-ed7b1ee2ea92')\"\n",
              "                title=\"Suggest charts\"\n",
              "                style=\"display:none;\">\n",
              "\n",
              "<svg xmlns=\"http://www.w3.org/2000/svg\" height=\"24px\"viewBox=\"0 0 24 24\"\n",
              "     width=\"24px\">\n",
              "    <g>\n",
              "        <path d=\"M19 3H5c-1.1 0-2 .9-2 2v14c0 1.1.9 2 2 2h14c1.1 0 2-.9 2-2V5c0-1.1-.9-2-2-2zM9 17H7v-7h2v7zm4 0h-2V7h2v10zm4 0h-2v-4h2v4z\"/>\n",
              "    </g>\n",
              "</svg>\n",
              "      </button>\n",
              "\n",
              "<style>\n",
              "  .colab-df-quickchart {\n",
              "      --bg-color: #E8F0FE;\n",
              "      --fill-color: #1967D2;\n",
              "      --hover-bg-color: #E2EBFA;\n",
              "      --hover-fill-color: #174EA6;\n",
              "      --disabled-fill-color: #AAA;\n",
              "      --disabled-bg-color: #DDD;\n",
              "  }\n",
              "\n",
              "  [theme=dark] .colab-df-quickchart {\n",
              "      --bg-color: #3B4455;\n",
              "      --fill-color: #D2E3FC;\n",
              "      --hover-bg-color: #434B5C;\n",
              "      --hover-fill-color: #FFFFFF;\n",
              "      --disabled-bg-color: #3B4455;\n",
              "      --disabled-fill-color: #666;\n",
              "  }\n",
              "\n",
              "  .colab-df-quickchart {\n",
              "    background-color: var(--bg-color);\n",
              "    border: none;\n",
              "    border-radius: 50%;\n",
              "    cursor: pointer;\n",
              "    display: none;\n",
              "    fill: var(--fill-color);\n",
              "    height: 32px;\n",
              "    padding: 0;\n",
              "    width: 32px;\n",
              "  }\n",
              "\n",
              "  .colab-df-quickchart:hover {\n",
              "    background-color: var(--hover-bg-color);\n",
              "    box-shadow: 0 1px 2px rgba(60, 64, 67, 0.3), 0 1px 3px 1px rgba(60, 64, 67, 0.15);\n",
              "    fill: var(--button-hover-fill-color);\n",
              "  }\n",
              "\n",
              "  .colab-df-quickchart-complete:disabled,\n",
              "  .colab-df-quickchart-complete:disabled:hover {\n",
              "    background-color: var(--disabled-bg-color);\n",
              "    fill: var(--disabled-fill-color);\n",
              "    box-shadow: none;\n",
              "  }\n",
              "\n",
              "  .colab-df-spinner {\n",
              "    border: 2px solid var(--fill-color);\n",
              "    border-color: transparent;\n",
              "    border-bottom-color: var(--fill-color);\n",
              "    animation:\n",
              "      spin 1s steps(1) infinite;\n",
              "  }\n",
              "\n",
              "  @keyframes spin {\n",
              "    0% {\n",
              "      border-color: transparent;\n",
              "      border-bottom-color: var(--fill-color);\n",
              "      border-left-color: var(--fill-color);\n",
              "    }\n",
              "    20% {\n",
              "      border-color: transparent;\n",
              "      border-left-color: var(--fill-color);\n",
              "      border-top-color: var(--fill-color);\n",
              "    }\n",
              "    30% {\n",
              "      border-color: transparent;\n",
              "      border-left-color: var(--fill-color);\n",
              "      border-top-color: var(--fill-color);\n",
              "      border-right-color: var(--fill-color);\n",
              "    }\n",
              "    40% {\n",
              "      border-color: transparent;\n",
              "      border-right-color: var(--fill-color);\n",
              "      border-top-color: var(--fill-color);\n",
              "    }\n",
              "    60% {\n",
              "      border-color: transparent;\n",
              "      border-right-color: var(--fill-color);\n",
              "    }\n",
              "    80% {\n",
              "      border-color: transparent;\n",
              "      border-right-color: var(--fill-color);\n",
              "      border-bottom-color: var(--fill-color);\n",
              "    }\n",
              "    90% {\n",
              "      border-color: transparent;\n",
              "      border-bottom-color: var(--fill-color);\n",
              "    }\n",
              "  }\n",
              "</style>\n",
              "\n",
              "      <script>\n",
              "        async function quickchart(key) {\n",
              "          const quickchartButtonEl =\n",
              "            document.querySelector('#' + key + ' button');\n",
              "          quickchartButtonEl.disabled = true;  // To prevent multiple clicks.\n",
              "          quickchartButtonEl.classList.add('colab-df-spinner');\n",
              "          try {\n",
              "            const charts = await google.colab.kernel.invokeFunction(\n",
              "                'suggestCharts', [key], {});\n",
              "          } catch (error) {\n",
              "            console.error('Error during call to suggestCharts:', error);\n",
              "          }\n",
              "          quickchartButtonEl.classList.remove('colab-df-spinner');\n",
              "          quickchartButtonEl.classList.add('colab-df-quickchart-complete');\n",
              "        }\n",
              "        (() => {\n",
              "          let quickchartButtonEl =\n",
              "            document.querySelector('#df-f92b34c8-bda6-4f8c-9abf-ed7b1ee2ea92 button');\n",
              "          quickchartButtonEl.style.display =\n",
              "            google.colab.kernel.accessAllowed ? 'block' : 'none';\n",
              "        })();\n",
              "      </script>\n",
              "    </div>\n",
              "\n",
              "    </div>\n",
              "  </div>\n"
            ],
            "application/vnd.google.colaboratory.intrinsic+json": {
              "type": "dataframe",
              "repr_error": "0"
            }
          },
          "metadata": {},
          "execution_count": 3
        }
      ]
    },
    {
      "cell_type": "markdown",
      "source": [
        "##**Exploratory Data Analysis (EDA)**"
      ],
      "metadata": {
        "id": "x09TGSCL50Ku"
      }
    },
    {
      "cell_type": "code",
      "source": [
        "df.info()"
      ],
      "metadata": {
        "colab": {
          "base_uri": "https://localhost:8080/",
          "height": 0
        },
        "id": "SlDc8okLztWo",
        "outputId": "4237ccbe-0a8d-4ab8-98ab-abf1e165d50e"
      },
      "execution_count": 4,
      "outputs": [
        {
          "output_type": "stream",
          "name": "stdout",
          "text": [
            "<class 'pandas.core.frame.DataFrame'>\n",
            "RangeIndex: 319 entries, 0 to 318\n",
            "Data columns (total 9 columns):\n",
            " #   Column                 Non-Null Count  Dtype  \n",
            "---  ------                 --------------  -----  \n",
            " 0   Date                   319 non-null    object \n",
            " 1   IPOName                319 non-null    object \n",
            " 2   Issue_Size             319 non-null    float64\n",
            " 3   Subscription_QIB       319 non-null    float64\n",
            " 4   Subscription_HNI       319 non-null    float64\n",
            " 5   Subscription_RII       319 non-null    float64\n",
            " 6   Subscription_Total     319 non-null    float64\n",
            " 7   Issue_Price            319 non-null    int64  \n",
            " 8   Listing_Gains_Percent  319 non-null    float64\n",
            "dtypes: float64(6), int64(1), object(2)\n",
            "memory usage: 22.6+ KB\n"
          ]
        }
      ]
    },
    {
      "cell_type": "markdown",
      "source": [
        "The dataset contains 2 object-type, 6 float-type, and 1 integer-type columns. We'll convert the **'date'** column to datetime format since it shouldn't remain as an object. Additionally, we'll remove the **'IPOName'** column as it doesn't contribute to prediction accuracy."
      ],
      "metadata": {
        "id": "wURN2nnAz92r"
      }
    },
    {
      "cell_type": "code",
      "source": [
        "# Print the summary statistics for the 'Listing_Gains_Percent' variable in the dataset\n",
        "df['Listing_Gains_Percent'].describe()"
      ],
      "metadata": {
        "colab": {
          "base_uri": "https://localhost:8080/",
          "height": 335
        },
        "id": "liCq9bwN1Yld",
        "outputId": "e96c0e8d-e29b-46b6-9475-2a2766ce23c7"
      },
      "execution_count": 5,
      "outputs": [
        {
          "output_type": "execute_result",
          "data": {
            "text/plain": [
              "count    319.000000\n",
              "mean       4.742696\n",
              "std       47.650946\n",
              "min      -97.150000\n",
              "25%      -11.555000\n",
              "50%        1.810000\n",
              "75%       25.310000\n",
              "max      270.400000\n",
              "Name: Listing_Gains_Percent, dtype: float64"
            ],
            "text/html": [
              "<div>\n",
              "<style scoped>\n",
              "    .dataframe tbody tr th:only-of-type {\n",
              "        vertical-align: middle;\n",
              "    }\n",
              "\n",
              "    .dataframe tbody tr th {\n",
              "        vertical-align: top;\n",
              "    }\n",
              "\n",
              "    .dataframe thead th {\n",
              "        text-align: right;\n",
              "    }\n",
              "</style>\n",
              "<table border=\"1\" class=\"dataframe\">\n",
              "  <thead>\n",
              "    <tr style=\"text-align: right;\">\n",
              "      <th></th>\n",
              "      <th>Listing_Gains_Percent</th>\n",
              "    </tr>\n",
              "  </thead>\n",
              "  <tbody>\n",
              "    <tr>\n",
              "      <th>count</th>\n",
              "      <td>319.000000</td>\n",
              "    </tr>\n",
              "    <tr>\n",
              "      <th>mean</th>\n",
              "      <td>4.742696</td>\n",
              "    </tr>\n",
              "    <tr>\n",
              "      <th>std</th>\n",
              "      <td>47.650946</td>\n",
              "    </tr>\n",
              "    <tr>\n",
              "      <th>min</th>\n",
              "      <td>-97.150000</td>\n",
              "    </tr>\n",
              "    <tr>\n",
              "      <th>25%</th>\n",
              "      <td>-11.555000</td>\n",
              "    </tr>\n",
              "    <tr>\n",
              "      <th>50%</th>\n",
              "      <td>1.810000</td>\n",
              "    </tr>\n",
              "    <tr>\n",
              "      <th>75%</th>\n",
              "      <td>25.310000</td>\n",
              "    </tr>\n",
              "    <tr>\n",
              "      <th>max</th>\n",
              "      <td>270.400000</td>\n",
              "    </tr>\n",
              "  </tbody>\n",
              "</table>\n",
              "</div><br><label><b>dtype:</b> float64</label>"
            ]
          },
          "metadata": {},
          "execution_count": 5
        }
      ]
    },
    {
      "cell_type": "markdown",
      "source": [
        "As we can see here that the mean value for **Listing_Gains_Percent** is 4.74% and the min and max values are -97.15% and 270.40% respectively. Also a standard deviation of 47.65%, indicating a wide range of listing gains. As 75% of data are below 26%, so there is a high chance that we have outliers on this data."
      ],
      "metadata": {
        "id": "OAvLxBvv2D-9"
      }
    },
    {
      "cell_type": "code",
      "source": [
        "# Print the summary statistics for all variables of the dataset\n",
        "df.describe()"
      ],
      "metadata": {
        "colab": {
          "base_uri": "https://localhost:8080/",
          "height": 300
        },
        "id": "atI15mDNz02H",
        "outputId": "69924325-f1c4-4bbb-c27c-05b4ab3067d1"
      },
      "execution_count": 6,
      "outputs": [
        {
          "output_type": "execute_result",
          "data": {
            "text/plain": [
              "         Issue_Size  Subscription_QIB  Subscription_HNI  Subscription_RII  \\\n",
              "count    319.000000        319.000000        319.000000        319.000000   \n",
              "mean    1192.859969         25.684138         70.091379          8.561599   \n",
              "std     2384.643786         40.716782        142.454416         14.508670   \n",
              "min        0.000000          0.000000          0.000000          0.000000   \n",
              "25%      169.005000          1.150000          1.255000          1.275000   \n",
              "50%      496.250000          4.940000          5.070000          3.420000   \n",
              "75%     1100.000000         34.635000         62.095000          8.605000   \n",
              "max    21000.000000        215.450000        958.070000        119.440000   \n",
              "\n",
              "       Subscription_Total  Issue_Price  Listing_Gains_Percent  \n",
              "count          319.000000   319.000000             319.000000  \n",
              "mean            27.447147   375.128527               4.742696  \n",
              "std             48.772203   353.897614              47.650946  \n",
              "min              0.000000     0.000000             -97.150000  \n",
              "25%              1.645000   119.000000             -11.555000  \n",
              "50%              4.930000   250.000000               1.810000  \n",
              "75%             33.395000   536.000000              25.310000  \n",
              "max            326.490000  2150.000000             270.400000  "
            ],
            "text/html": [
              "\n",
              "  <div id=\"df-5ebdc2bb-9dc5-4c2d-926b-b6949e9b928a\" class=\"colab-df-container\">\n",
              "    <div>\n",
              "<style scoped>\n",
              "    .dataframe tbody tr th:only-of-type {\n",
              "        vertical-align: middle;\n",
              "    }\n",
              "\n",
              "    .dataframe tbody tr th {\n",
              "        vertical-align: top;\n",
              "    }\n",
              "\n",
              "    .dataframe thead th {\n",
              "        text-align: right;\n",
              "    }\n",
              "</style>\n",
              "<table border=\"1\" class=\"dataframe\">\n",
              "  <thead>\n",
              "    <tr style=\"text-align: right;\">\n",
              "      <th></th>\n",
              "      <th>Issue_Size</th>\n",
              "      <th>Subscription_QIB</th>\n",
              "      <th>Subscription_HNI</th>\n",
              "      <th>Subscription_RII</th>\n",
              "      <th>Subscription_Total</th>\n",
              "      <th>Issue_Price</th>\n",
              "      <th>Listing_Gains_Percent</th>\n",
              "    </tr>\n",
              "  </thead>\n",
              "  <tbody>\n",
              "    <tr>\n",
              "      <th>count</th>\n",
              "      <td>319.000000</td>\n",
              "      <td>319.000000</td>\n",
              "      <td>319.000000</td>\n",
              "      <td>319.000000</td>\n",
              "      <td>319.000000</td>\n",
              "      <td>319.000000</td>\n",
              "      <td>319.000000</td>\n",
              "    </tr>\n",
              "    <tr>\n",
              "      <th>mean</th>\n",
              "      <td>1192.859969</td>\n",
              "      <td>25.684138</td>\n",
              "      <td>70.091379</td>\n",
              "      <td>8.561599</td>\n",
              "      <td>27.447147</td>\n",
              "      <td>375.128527</td>\n",
              "      <td>4.742696</td>\n",
              "    </tr>\n",
              "    <tr>\n",
              "      <th>std</th>\n",
              "      <td>2384.643786</td>\n",
              "      <td>40.716782</td>\n",
              "      <td>142.454416</td>\n",
              "      <td>14.508670</td>\n",
              "      <td>48.772203</td>\n",
              "      <td>353.897614</td>\n",
              "      <td>47.650946</td>\n",
              "    </tr>\n",
              "    <tr>\n",
              "      <th>min</th>\n",
              "      <td>0.000000</td>\n",
              "      <td>0.000000</td>\n",
              "      <td>0.000000</td>\n",
              "      <td>0.000000</td>\n",
              "      <td>0.000000</td>\n",
              "      <td>0.000000</td>\n",
              "      <td>-97.150000</td>\n",
              "    </tr>\n",
              "    <tr>\n",
              "      <th>25%</th>\n",
              "      <td>169.005000</td>\n",
              "      <td>1.150000</td>\n",
              "      <td>1.255000</td>\n",
              "      <td>1.275000</td>\n",
              "      <td>1.645000</td>\n",
              "      <td>119.000000</td>\n",
              "      <td>-11.555000</td>\n",
              "    </tr>\n",
              "    <tr>\n",
              "      <th>50%</th>\n",
              "      <td>496.250000</td>\n",
              "      <td>4.940000</td>\n",
              "      <td>5.070000</td>\n",
              "      <td>3.420000</td>\n",
              "      <td>4.930000</td>\n",
              "      <td>250.000000</td>\n",
              "      <td>1.810000</td>\n",
              "    </tr>\n",
              "    <tr>\n",
              "      <th>75%</th>\n",
              "      <td>1100.000000</td>\n",
              "      <td>34.635000</td>\n",
              "      <td>62.095000</td>\n",
              "      <td>8.605000</td>\n",
              "      <td>33.395000</td>\n",
              "      <td>536.000000</td>\n",
              "      <td>25.310000</td>\n",
              "    </tr>\n",
              "    <tr>\n",
              "      <th>max</th>\n",
              "      <td>21000.000000</td>\n",
              "      <td>215.450000</td>\n",
              "      <td>958.070000</td>\n",
              "      <td>119.440000</td>\n",
              "      <td>326.490000</td>\n",
              "      <td>2150.000000</td>\n",
              "      <td>270.400000</td>\n",
              "    </tr>\n",
              "  </tbody>\n",
              "</table>\n",
              "</div>\n",
              "    <div class=\"colab-df-buttons\">\n",
              "\n",
              "  <div class=\"colab-df-container\">\n",
              "    <button class=\"colab-df-convert\" onclick=\"convertToInteractive('df-5ebdc2bb-9dc5-4c2d-926b-b6949e9b928a')\"\n",
              "            title=\"Convert this dataframe to an interactive table.\"\n",
              "            style=\"display:none;\">\n",
              "\n",
              "  <svg xmlns=\"http://www.w3.org/2000/svg\" height=\"24px\" viewBox=\"0 -960 960 960\">\n",
              "    <path d=\"M120-120v-720h720v720H120Zm60-500h600v-160H180v160Zm220 220h160v-160H400v160Zm0 220h160v-160H400v160ZM180-400h160v-160H180v160Zm440 0h160v-160H620v160ZM180-180h160v-160H180v160Zm440 0h160v-160H620v160Z\"/>\n",
              "  </svg>\n",
              "    </button>\n",
              "\n",
              "  <style>\n",
              "    .colab-df-container {\n",
              "      display:flex;\n",
              "      gap: 12px;\n",
              "    }\n",
              "\n",
              "    .colab-df-convert {\n",
              "      background-color: #E8F0FE;\n",
              "      border: none;\n",
              "      border-radius: 50%;\n",
              "      cursor: pointer;\n",
              "      display: none;\n",
              "      fill: #1967D2;\n",
              "      height: 32px;\n",
              "      padding: 0 0 0 0;\n",
              "      width: 32px;\n",
              "    }\n",
              "\n",
              "    .colab-df-convert:hover {\n",
              "      background-color: #E2EBFA;\n",
              "      box-shadow: 0px 1px 2px rgba(60, 64, 67, 0.3), 0px 1px 3px 1px rgba(60, 64, 67, 0.15);\n",
              "      fill: #174EA6;\n",
              "    }\n",
              "\n",
              "    .colab-df-buttons div {\n",
              "      margin-bottom: 4px;\n",
              "    }\n",
              "\n",
              "    [theme=dark] .colab-df-convert {\n",
              "      background-color: #3B4455;\n",
              "      fill: #D2E3FC;\n",
              "    }\n",
              "\n",
              "    [theme=dark] .colab-df-convert:hover {\n",
              "      background-color: #434B5C;\n",
              "      box-shadow: 0px 1px 3px 1px rgba(0, 0, 0, 0.15);\n",
              "      filter: drop-shadow(0px 1px 2px rgba(0, 0, 0, 0.3));\n",
              "      fill: #FFFFFF;\n",
              "    }\n",
              "  </style>\n",
              "\n",
              "    <script>\n",
              "      const buttonEl =\n",
              "        document.querySelector('#df-5ebdc2bb-9dc5-4c2d-926b-b6949e9b928a button.colab-df-convert');\n",
              "      buttonEl.style.display =\n",
              "        google.colab.kernel.accessAllowed ? 'block' : 'none';\n",
              "\n",
              "      async function convertToInteractive(key) {\n",
              "        const element = document.querySelector('#df-5ebdc2bb-9dc5-4c2d-926b-b6949e9b928a');\n",
              "        const dataTable =\n",
              "          await google.colab.kernel.invokeFunction('convertToInteractive',\n",
              "                                                    [key], {});\n",
              "        if (!dataTable) return;\n",
              "\n",
              "        const docLinkHtml = 'Like what you see? Visit the ' +\n",
              "          '<a target=\"_blank\" href=https://colab.research.google.com/notebooks/data_table.ipynb>data table notebook</a>'\n",
              "          + ' to learn more about interactive tables.';\n",
              "        element.innerHTML = '';\n",
              "        dataTable['output_type'] = 'display_data';\n",
              "        await google.colab.output.renderOutput(dataTable, element);\n",
              "        const docLink = document.createElement('div');\n",
              "        docLink.innerHTML = docLinkHtml;\n",
              "        element.appendChild(docLink);\n",
              "      }\n",
              "    </script>\n",
              "  </div>\n",
              "\n",
              "\n",
              "    <div id=\"df-67b508e7-fa85-4fd8-af75-e09ee1f6a652\">\n",
              "      <button class=\"colab-df-quickchart\" onclick=\"quickchart('df-67b508e7-fa85-4fd8-af75-e09ee1f6a652')\"\n",
              "                title=\"Suggest charts\"\n",
              "                style=\"display:none;\">\n",
              "\n",
              "<svg xmlns=\"http://www.w3.org/2000/svg\" height=\"24px\"viewBox=\"0 0 24 24\"\n",
              "     width=\"24px\">\n",
              "    <g>\n",
              "        <path d=\"M19 3H5c-1.1 0-2 .9-2 2v14c0 1.1.9 2 2 2h14c1.1 0 2-.9 2-2V5c0-1.1-.9-2-2-2zM9 17H7v-7h2v7zm4 0h-2V7h2v10zm4 0h-2v-4h2v4z\"/>\n",
              "    </g>\n",
              "</svg>\n",
              "      </button>\n",
              "\n",
              "<style>\n",
              "  .colab-df-quickchart {\n",
              "      --bg-color: #E8F0FE;\n",
              "      --fill-color: #1967D2;\n",
              "      --hover-bg-color: #E2EBFA;\n",
              "      --hover-fill-color: #174EA6;\n",
              "      --disabled-fill-color: #AAA;\n",
              "      --disabled-bg-color: #DDD;\n",
              "  }\n",
              "\n",
              "  [theme=dark] .colab-df-quickchart {\n",
              "      --bg-color: #3B4455;\n",
              "      --fill-color: #D2E3FC;\n",
              "      --hover-bg-color: #434B5C;\n",
              "      --hover-fill-color: #FFFFFF;\n",
              "      --disabled-bg-color: #3B4455;\n",
              "      --disabled-fill-color: #666;\n",
              "  }\n",
              "\n",
              "  .colab-df-quickchart {\n",
              "    background-color: var(--bg-color);\n",
              "    border: none;\n",
              "    border-radius: 50%;\n",
              "    cursor: pointer;\n",
              "    display: none;\n",
              "    fill: var(--fill-color);\n",
              "    height: 32px;\n",
              "    padding: 0;\n",
              "    width: 32px;\n",
              "  }\n",
              "\n",
              "  .colab-df-quickchart:hover {\n",
              "    background-color: var(--hover-bg-color);\n",
              "    box-shadow: 0 1px 2px rgba(60, 64, 67, 0.3), 0 1px 3px 1px rgba(60, 64, 67, 0.15);\n",
              "    fill: var(--button-hover-fill-color);\n",
              "  }\n",
              "\n",
              "  .colab-df-quickchart-complete:disabled,\n",
              "  .colab-df-quickchart-complete:disabled:hover {\n",
              "    background-color: var(--disabled-bg-color);\n",
              "    fill: var(--disabled-fill-color);\n",
              "    box-shadow: none;\n",
              "  }\n",
              "\n",
              "  .colab-df-spinner {\n",
              "    border: 2px solid var(--fill-color);\n",
              "    border-color: transparent;\n",
              "    border-bottom-color: var(--fill-color);\n",
              "    animation:\n",
              "      spin 1s steps(1) infinite;\n",
              "  }\n",
              "\n",
              "  @keyframes spin {\n",
              "    0% {\n",
              "      border-color: transparent;\n",
              "      border-bottom-color: var(--fill-color);\n",
              "      border-left-color: var(--fill-color);\n",
              "    }\n",
              "    20% {\n",
              "      border-color: transparent;\n",
              "      border-left-color: var(--fill-color);\n",
              "      border-top-color: var(--fill-color);\n",
              "    }\n",
              "    30% {\n",
              "      border-color: transparent;\n",
              "      border-left-color: var(--fill-color);\n",
              "      border-top-color: var(--fill-color);\n",
              "      border-right-color: var(--fill-color);\n",
              "    }\n",
              "    40% {\n",
              "      border-color: transparent;\n",
              "      border-right-color: var(--fill-color);\n",
              "      border-top-color: var(--fill-color);\n",
              "    }\n",
              "    60% {\n",
              "      border-color: transparent;\n",
              "      border-right-color: var(--fill-color);\n",
              "    }\n",
              "    80% {\n",
              "      border-color: transparent;\n",
              "      border-right-color: var(--fill-color);\n",
              "      border-bottom-color: var(--fill-color);\n",
              "    }\n",
              "    90% {\n",
              "      border-color: transparent;\n",
              "      border-bottom-color: var(--fill-color);\n",
              "    }\n",
              "  }\n",
              "</style>\n",
              "\n",
              "      <script>\n",
              "        async function quickchart(key) {\n",
              "          const quickchartButtonEl =\n",
              "            document.querySelector('#' + key + ' button');\n",
              "          quickchartButtonEl.disabled = true;  // To prevent multiple clicks.\n",
              "          quickchartButtonEl.classList.add('colab-df-spinner');\n",
              "          try {\n",
              "            const charts = await google.colab.kernel.invokeFunction(\n",
              "                'suggestCharts', [key], {});\n",
              "          } catch (error) {\n",
              "            console.error('Error during call to suggestCharts:', error);\n",
              "          }\n",
              "          quickchartButtonEl.classList.remove('colab-df-spinner');\n",
              "          quickchartButtonEl.classList.add('colab-df-quickchart-complete');\n",
              "        }\n",
              "        (() => {\n",
              "          let quickchartButtonEl =\n",
              "            document.querySelector('#df-67b508e7-fa85-4fd8-af75-e09ee1f6a652 button');\n",
              "          quickchartButtonEl.style.display =\n",
              "            google.colab.kernel.accessAllowed ? 'block' : 'none';\n",
              "        })();\n",
              "      </script>\n",
              "    </div>\n",
              "\n",
              "    </div>\n",
              "  </div>\n"
            ],
            "application/vnd.google.colaboratory.intrinsic+json": {
              "type": "dataframe",
              "summary": "{\n  \"name\": \"df\",\n  \"rows\": 8,\n  \"fields\": [\n    {\n      \"column\": \"Issue_Size\",\n      \"properties\": {\n        \"dtype\": \"number\",\n        \"std\": 7179.731950395654,\n        \"min\": 0.0,\n        \"max\": 21000.0,\n        \"num_unique_values\": 8,\n        \"samples\": [\n          1192.8599686520379,\n          496.25,\n          319.0\n        ],\n        \"semantic_type\": \"\",\n        \"description\": \"\"\n      }\n    },\n    {\n      \"column\": \"Subscription_QIB\",\n      \"properties\": {\n        \"dtype\": \"number\",\n        \"std\": 119.68415904732683,\n        \"min\": 0.0,\n        \"max\": 319.0,\n        \"num_unique_values\": 8,\n        \"samples\": [\n          25.68413793103449,\n          4.94,\n          319.0\n        ],\n        \"semantic_type\": \"\",\n        \"description\": \"\"\n      }\n    },\n    {\n      \"column\": \"Subscription_HNI\",\n      \"properties\": {\n        \"dtype\": \"number\",\n        \"std\": 326.3026232361266,\n        \"min\": 0.0,\n        \"max\": 958.07,\n        \"num_unique_values\": 8,\n        \"samples\": [\n          70.09137931034483,\n          5.07,\n          319.0\n        ],\n        \"semantic_type\": \"\",\n        \"description\": \"\"\n      }\n    },\n    {\n      \"column\": \"Subscription_RII\",\n      \"properties\": {\n        \"dtype\": \"number\",\n        \"std\": 112.26084752837234,\n        \"min\": 0.0,\n        \"max\": 319.0,\n        \"num_unique_values\": 8,\n        \"samples\": [\n          8.561598746081504,\n          3.42,\n          319.0\n        ],\n        \"semantic_type\": \"\",\n        \"description\": \"\"\n      }\n    },\n    {\n      \"column\": \"Subscription_Total\",\n      \"properties\": {\n        \"dtype\": \"number\",\n        \"std\": 141.47771235347844,\n        \"min\": 0.0,\n        \"max\": 326.49,\n        \"num_unique_values\": 8,\n        \"samples\": [\n          27.447147335423196,\n          4.93,\n          319.0\n        ],\n        \"semantic_type\": \"\",\n        \"description\": \"\"\n      }\n    },\n    {\n      \"column\": \"Issue_Price\",\n      \"properties\": {\n        \"dtype\": \"number\",\n        \"std\": 681.3673221502085,\n        \"min\": 0.0,\n        \"max\": 2150.0,\n        \"num_unique_values\": 8,\n        \"samples\": [\n          375.12852664576803,\n          250.0,\n          319.0\n        ],\n        \"semantic_type\": \"\",\n        \"description\": \"\"\n      }\n    },\n    {\n      \"column\": \"Listing_Gains_Percent\",\n      \"properties\": {\n        \"dtype\": \"number\",\n        \"std\": 145.4827251486592,\n        \"min\": -97.15,\n        \"max\": 319.0,\n        \"num_unique_values\": 8,\n        \"samples\": [\n          4.742695924764891,\n          1.81,\n          319.0\n        ],\n        \"semantic_type\": \"\",\n        \"description\": \"\"\n      }\n    }\n  ]\n}"
            }
          },
          "metadata": {},
          "execution_count": 6
        }
      ]
    },
    {
      "cell_type": "markdown",
      "source": [
        "**Listing_Gains_Percent** target variable is continous. Therfore, we will need to convert it into a categorical variable before we can proceed."
      ],
      "metadata": {
        "id": "hI7M1HRI5oOK"
      }
    },
    {
      "cell_type": "code",
      "source": [
        "# Create a categorical target variable, Listing_Gains_Profit\n",
        "\n",
        "df['Listing_Gains_Profit'] = df['Listing_Gains_Percent'].apply(lambda x: 1 if x > 0 else 0)\n",
        "df['Listing_Gains_Profit'].unique()"
      ],
      "metadata": {
        "colab": {
          "base_uri": "https://localhost:8080/",
          "height": 0
        },
        "id": "zfA57C_T1EU4",
        "outputId": "38780dd1-b806-43bd-8a98-49324d856a31"
      },
      "execution_count": 7,
      "outputs": [
        {
          "output_type": "execute_result",
          "data": {
            "text/plain": [
              "array([1, 0])"
            ]
          },
          "metadata": {},
          "execution_count": 7
        }
      ]
    },
    {
      "cell_type": "markdown",
      "source": [
        "We successfully created a new categorical target variable, 'Listing_Gains_Profit', which indicates whether an IPO listed at a profit(1) or not(0) based on the 'Listing_Gains_Percent'."
      ],
      "metadata": {
        "id": "Qf3zc3Ii6bRo"
      }
    },
    {
      "cell_type": "code",
      "source": [
        "#missing values check\n",
        "df.isnull().sum()"
      ],
      "metadata": {
        "colab": {
          "base_uri": "https://localhost:8080/",
          "height": 398
        },
        "id": "Wud3zwGF5Wam",
        "outputId": "a5a717b8-3cf8-421b-9859-c2c539b4a6f5"
      },
      "execution_count": 8,
      "outputs": [
        {
          "output_type": "execute_result",
          "data": {
            "text/plain": [
              "Date                     0\n",
              "IPOName                  0\n",
              "Issue_Size               0\n",
              "Subscription_QIB         0\n",
              "Subscription_HNI         0\n",
              "Subscription_RII         0\n",
              "Subscription_Total       0\n",
              "Issue_Price              0\n",
              "Listing_Gains_Percent    0\n",
              "Listing_Gains_Profit     0\n",
              "dtype: int64"
            ],
            "text/html": [
              "<div>\n",
              "<style scoped>\n",
              "    .dataframe tbody tr th:only-of-type {\n",
              "        vertical-align: middle;\n",
              "    }\n",
              "\n",
              "    .dataframe tbody tr th {\n",
              "        vertical-align: top;\n",
              "    }\n",
              "\n",
              "    .dataframe thead th {\n",
              "        text-align: right;\n",
              "    }\n",
              "</style>\n",
              "<table border=\"1\" class=\"dataframe\">\n",
              "  <thead>\n",
              "    <tr style=\"text-align: right;\">\n",
              "      <th></th>\n",
              "      <th>0</th>\n",
              "    </tr>\n",
              "  </thead>\n",
              "  <tbody>\n",
              "    <tr>\n",
              "      <th>Date</th>\n",
              "      <td>0</td>\n",
              "    </tr>\n",
              "    <tr>\n",
              "      <th>IPOName</th>\n",
              "      <td>0</td>\n",
              "    </tr>\n",
              "    <tr>\n",
              "      <th>Issue_Size</th>\n",
              "      <td>0</td>\n",
              "    </tr>\n",
              "    <tr>\n",
              "      <th>Subscription_QIB</th>\n",
              "      <td>0</td>\n",
              "    </tr>\n",
              "    <tr>\n",
              "      <th>Subscription_HNI</th>\n",
              "      <td>0</td>\n",
              "    </tr>\n",
              "    <tr>\n",
              "      <th>Subscription_RII</th>\n",
              "      <td>0</td>\n",
              "    </tr>\n",
              "    <tr>\n",
              "      <th>Subscription_Total</th>\n",
              "      <td>0</td>\n",
              "    </tr>\n",
              "    <tr>\n",
              "      <th>Issue_Price</th>\n",
              "      <td>0</td>\n",
              "    </tr>\n",
              "    <tr>\n",
              "      <th>Listing_Gains_Percent</th>\n",
              "      <td>0</td>\n",
              "    </tr>\n",
              "    <tr>\n",
              "      <th>Listing_Gains_Profit</th>\n",
              "      <td>0</td>\n",
              "    </tr>\n",
              "  </tbody>\n",
              "</table>\n",
              "</div><br><label><b>dtype:</b> int64</label>"
            ]
          },
          "metadata": {},
          "execution_count": 8
        }
      ]
    },
    {
      "cell_type": "markdown",
      "source": [
        "We have no missing values here\n"
      ],
      "metadata": {
        "id": "WYDet23h6J60"
      }
    },
    {
      "cell_type": "code",
      "source": [
        "# checking summary statistics\n",
        "df.describe()"
      ],
      "metadata": {
        "colab": {
          "base_uri": "https://localhost:8080/",
          "height": 300
        },
        "id": "vpEqJYlr6CLH",
        "outputId": "18cd7198-4fd4-4beb-9c29-bf4e806a116f"
      },
      "execution_count": 9,
      "outputs": [
        {
          "output_type": "execute_result",
          "data": {
            "text/plain": [
              "         Issue_Size  Subscription_QIB  Subscription_HNI  Subscription_RII  \\\n",
              "count    319.000000        319.000000        319.000000        319.000000   \n",
              "mean    1192.859969         25.684138         70.091379          8.561599   \n",
              "std     2384.643786         40.716782        142.454416         14.508670   \n",
              "min        0.000000          0.000000          0.000000          0.000000   \n",
              "25%      169.005000          1.150000          1.255000          1.275000   \n",
              "50%      496.250000          4.940000          5.070000          3.420000   \n",
              "75%     1100.000000         34.635000         62.095000          8.605000   \n",
              "max    21000.000000        215.450000        958.070000        119.440000   \n",
              "\n",
              "       Subscription_Total  Issue_Price  Listing_Gains_Percent  \\\n",
              "count          319.000000   319.000000             319.000000   \n",
              "mean            27.447147   375.128527               4.742696   \n",
              "std             48.772203   353.897614              47.650946   \n",
              "min              0.000000     0.000000             -97.150000   \n",
              "25%              1.645000   119.000000             -11.555000   \n",
              "50%              4.930000   250.000000               1.810000   \n",
              "75%             33.395000   536.000000              25.310000   \n",
              "max            326.490000  2150.000000             270.400000   \n",
              "\n",
              "       Listing_Gains_Profit  \n",
              "count            319.000000  \n",
              "mean               0.545455  \n",
              "std                0.498712  \n",
              "min                0.000000  \n",
              "25%                0.000000  \n",
              "50%                1.000000  \n",
              "75%                1.000000  \n",
              "max                1.000000  "
            ],
            "text/html": [
              "\n",
              "  <div id=\"df-98890eff-fd2c-43fb-9b37-042394a90df4\" class=\"colab-df-container\">\n",
              "    <div>\n",
              "<style scoped>\n",
              "    .dataframe tbody tr th:only-of-type {\n",
              "        vertical-align: middle;\n",
              "    }\n",
              "\n",
              "    .dataframe tbody tr th {\n",
              "        vertical-align: top;\n",
              "    }\n",
              "\n",
              "    .dataframe thead th {\n",
              "        text-align: right;\n",
              "    }\n",
              "</style>\n",
              "<table border=\"1\" class=\"dataframe\">\n",
              "  <thead>\n",
              "    <tr style=\"text-align: right;\">\n",
              "      <th></th>\n",
              "      <th>Issue_Size</th>\n",
              "      <th>Subscription_QIB</th>\n",
              "      <th>Subscription_HNI</th>\n",
              "      <th>Subscription_RII</th>\n",
              "      <th>Subscription_Total</th>\n",
              "      <th>Issue_Price</th>\n",
              "      <th>Listing_Gains_Percent</th>\n",
              "      <th>Listing_Gains_Profit</th>\n",
              "    </tr>\n",
              "  </thead>\n",
              "  <tbody>\n",
              "    <tr>\n",
              "      <th>count</th>\n",
              "      <td>319.000000</td>\n",
              "      <td>319.000000</td>\n",
              "      <td>319.000000</td>\n",
              "      <td>319.000000</td>\n",
              "      <td>319.000000</td>\n",
              "      <td>319.000000</td>\n",
              "      <td>319.000000</td>\n",
              "      <td>319.000000</td>\n",
              "    </tr>\n",
              "    <tr>\n",
              "      <th>mean</th>\n",
              "      <td>1192.859969</td>\n",
              "      <td>25.684138</td>\n",
              "      <td>70.091379</td>\n",
              "      <td>8.561599</td>\n",
              "      <td>27.447147</td>\n",
              "      <td>375.128527</td>\n",
              "      <td>4.742696</td>\n",
              "      <td>0.545455</td>\n",
              "    </tr>\n",
              "    <tr>\n",
              "      <th>std</th>\n",
              "      <td>2384.643786</td>\n",
              "      <td>40.716782</td>\n",
              "      <td>142.454416</td>\n",
              "      <td>14.508670</td>\n",
              "      <td>48.772203</td>\n",
              "      <td>353.897614</td>\n",
              "      <td>47.650946</td>\n",
              "      <td>0.498712</td>\n",
              "    </tr>\n",
              "    <tr>\n",
              "      <th>min</th>\n",
              "      <td>0.000000</td>\n",
              "      <td>0.000000</td>\n",
              "      <td>0.000000</td>\n",
              "      <td>0.000000</td>\n",
              "      <td>0.000000</td>\n",
              "      <td>0.000000</td>\n",
              "      <td>-97.150000</td>\n",
              "      <td>0.000000</td>\n",
              "    </tr>\n",
              "    <tr>\n",
              "      <th>25%</th>\n",
              "      <td>169.005000</td>\n",
              "      <td>1.150000</td>\n",
              "      <td>1.255000</td>\n",
              "      <td>1.275000</td>\n",
              "      <td>1.645000</td>\n",
              "      <td>119.000000</td>\n",
              "      <td>-11.555000</td>\n",
              "      <td>0.000000</td>\n",
              "    </tr>\n",
              "    <tr>\n",
              "      <th>50%</th>\n",
              "      <td>496.250000</td>\n",
              "      <td>4.940000</td>\n",
              "      <td>5.070000</td>\n",
              "      <td>3.420000</td>\n",
              "      <td>4.930000</td>\n",
              "      <td>250.000000</td>\n",
              "      <td>1.810000</td>\n",
              "      <td>1.000000</td>\n",
              "    </tr>\n",
              "    <tr>\n",
              "      <th>75%</th>\n",
              "      <td>1100.000000</td>\n",
              "      <td>34.635000</td>\n",
              "      <td>62.095000</td>\n",
              "      <td>8.605000</td>\n",
              "      <td>33.395000</td>\n",
              "      <td>536.000000</td>\n",
              "      <td>25.310000</td>\n",
              "      <td>1.000000</td>\n",
              "    </tr>\n",
              "    <tr>\n",
              "      <th>max</th>\n",
              "      <td>21000.000000</td>\n",
              "      <td>215.450000</td>\n",
              "      <td>958.070000</td>\n",
              "      <td>119.440000</td>\n",
              "      <td>326.490000</td>\n",
              "      <td>2150.000000</td>\n",
              "      <td>270.400000</td>\n",
              "      <td>1.000000</td>\n",
              "    </tr>\n",
              "  </tbody>\n",
              "</table>\n",
              "</div>\n",
              "    <div class=\"colab-df-buttons\">\n",
              "\n",
              "  <div class=\"colab-df-container\">\n",
              "    <button class=\"colab-df-convert\" onclick=\"convertToInteractive('df-98890eff-fd2c-43fb-9b37-042394a90df4')\"\n",
              "            title=\"Convert this dataframe to an interactive table.\"\n",
              "            style=\"display:none;\">\n",
              "\n",
              "  <svg xmlns=\"http://www.w3.org/2000/svg\" height=\"24px\" viewBox=\"0 -960 960 960\">\n",
              "    <path d=\"M120-120v-720h720v720H120Zm60-500h600v-160H180v160Zm220 220h160v-160H400v160Zm0 220h160v-160H400v160ZM180-400h160v-160H180v160Zm440 0h160v-160H620v160ZM180-180h160v-160H180v160Zm440 0h160v-160H620v160Z\"/>\n",
              "  </svg>\n",
              "    </button>\n",
              "\n",
              "  <style>\n",
              "    .colab-df-container {\n",
              "      display:flex;\n",
              "      gap: 12px;\n",
              "    }\n",
              "\n",
              "    .colab-df-convert {\n",
              "      background-color: #E8F0FE;\n",
              "      border: none;\n",
              "      border-radius: 50%;\n",
              "      cursor: pointer;\n",
              "      display: none;\n",
              "      fill: #1967D2;\n",
              "      height: 32px;\n",
              "      padding: 0 0 0 0;\n",
              "      width: 32px;\n",
              "    }\n",
              "\n",
              "    .colab-df-convert:hover {\n",
              "      background-color: #E2EBFA;\n",
              "      box-shadow: 0px 1px 2px rgba(60, 64, 67, 0.3), 0px 1px 3px 1px rgba(60, 64, 67, 0.15);\n",
              "      fill: #174EA6;\n",
              "    }\n",
              "\n",
              "    .colab-df-buttons div {\n",
              "      margin-bottom: 4px;\n",
              "    }\n",
              "\n",
              "    [theme=dark] .colab-df-convert {\n",
              "      background-color: #3B4455;\n",
              "      fill: #D2E3FC;\n",
              "    }\n",
              "\n",
              "    [theme=dark] .colab-df-convert:hover {\n",
              "      background-color: #434B5C;\n",
              "      box-shadow: 0px 1px 3px 1px rgba(0, 0, 0, 0.15);\n",
              "      filter: drop-shadow(0px 1px 2px rgba(0, 0, 0, 0.3));\n",
              "      fill: #FFFFFF;\n",
              "    }\n",
              "  </style>\n",
              "\n",
              "    <script>\n",
              "      const buttonEl =\n",
              "        document.querySelector('#df-98890eff-fd2c-43fb-9b37-042394a90df4 button.colab-df-convert');\n",
              "      buttonEl.style.display =\n",
              "        google.colab.kernel.accessAllowed ? 'block' : 'none';\n",
              "\n",
              "      async function convertToInteractive(key) {\n",
              "        const element = document.querySelector('#df-98890eff-fd2c-43fb-9b37-042394a90df4');\n",
              "        const dataTable =\n",
              "          await google.colab.kernel.invokeFunction('convertToInteractive',\n",
              "                                                    [key], {});\n",
              "        if (!dataTable) return;\n",
              "\n",
              "        const docLinkHtml = 'Like what you see? Visit the ' +\n",
              "          '<a target=\"_blank\" href=https://colab.research.google.com/notebooks/data_table.ipynb>data table notebook</a>'\n",
              "          + ' to learn more about interactive tables.';\n",
              "        element.innerHTML = '';\n",
              "        dataTable['output_type'] = 'display_data';\n",
              "        await google.colab.output.renderOutput(dataTable, element);\n",
              "        const docLink = document.createElement('div');\n",
              "        docLink.innerHTML = docLinkHtml;\n",
              "        element.appendChild(docLink);\n",
              "      }\n",
              "    </script>\n",
              "  </div>\n",
              "\n",
              "\n",
              "    <div id=\"df-dc080959-5a3e-49fb-9db3-90cd842fcfdb\">\n",
              "      <button class=\"colab-df-quickchart\" onclick=\"quickchart('df-dc080959-5a3e-49fb-9db3-90cd842fcfdb')\"\n",
              "                title=\"Suggest charts\"\n",
              "                style=\"display:none;\">\n",
              "\n",
              "<svg xmlns=\"http://www.w3.org/2000/svg\" height=\"24px\"viewBox=\"0 0 24 24\"\n",
              "     width=\"24px\">\n",
              "    <g>\n",
              "        <path d=\"M19 3H5c-1.1 0-2 .9-2 2v14c0 1.1.9 2 2 2h14c1.1 0 2-.9 2-2V5c0-1.1-.9-2-2-2zM9 17H7v-7h2v7zm4 0h-2V7h2v10zm4 0h-2v-4h2v4z\"/>\n",
              "    </g>\n",
              "</svg>\n",
              "      </button>\n",
              "\n",
              "<style>\n",
              "  .colab-df-quickchart {\n",
              "      --bg-color: #E8F0FE;\n",
              "      --fill-color: #1967D2;\n",
              "      --hover-bg-color: #E2EBFA;\n",
              "      --hover-fill-color: #174EA6;\n",
              "      --disabled-fill-color: #AAA;\n",
              "      --disabled-bg-color: #DDD;\n",
              "  }\n",
              "\n",
              "  [theme=dark] .colab-df-quickchart {\n",
              "      --bg-color: #3B4455;\n",
              "      --fill-color: #D2E3FC;\n",
              "      --hover-bg-color: #434B5C;\n",
              "      --hover-fill-color: #FFFFFF;\n",
              "      --disabled-bg-color: #3B4455;\n",
              "      --disabled-fill-color: #666;\n",
              "  }\n",
              "\n",
              "  .colab-df-quickchart {\n",
              "    background-color: var(--bg-color);\n",
              "    border: none;\n",
              "    border-radius: 50%;\n",
              "    cursor: pointer;\n",
              "    display: none;\n",
              "    fill: var(--fill-color);\n",
              "    height: 32px;\n",
              "    padding: 0;\n",
              "    width: 32px;\n",
              "  }\n",
              "\n",
              "  .colab-df-quickchart:hover {\n",
              "    background-color: var(--hover-bg-color);\n",
              "    box-shadow: 0 1px 2px rgba(60, 64, 67, 0.3), 0 1px 3px 1px rgba(60, 64, 67, 0.15);\n",
              "    fill: var(--button-hover-fill-color);\n",
              "  }\n",
              "\n",
              "  .colab-df-quickchart-complete:disabled,\n",
              "  .colab-df-quickchart-complete:disabled:hover {\n",
              "    background-color: var(--disabled-bg-color);\n",
              "    fill: var(--disabled-fill-color);\n",
              "    box-shadow: none;\n",
              "  }\n",
              "\n",
              "  .colab-df-spinner {\n",
              "    border: 2px solid var(--fill-color);\n",
              "    border-color: transparent;\n",
              "    border-bottom-color: var(--fill-color);\n",
              "    animation:\n",
              "      spin 1s steps(1) infinite;\n",
              "  }\n",
              "\n",
              "  @keyframes spin {\n",
              "    0% {\n",
              "      border-color: transparent;\n",
              "      border-bottom-color: var(--fill-color);\n",
              "      border-left-color: var(--fill-color);\n",
              "    }\n",
              "    20% {\n",
              "      border-color: transparent;\n",
              "      border-left-color: var(--fill-color);\n",
              "      border-top-color: var(--fill-color);\n",
              "    }\n",
              "    30% {\n",
              "      border-color: transparent;\n",
              "      border-left-color: var(--fill-color);\n",
              "      border-top-color: var(--fill-color);\n",
              "      border-right-color: var(--fill-color);\n",
              "    }\n",
              "    40% {\n",
              "      border-color: transparent;\n",
              "      border-right-color: var(--fill-color);\n",
              "      border-top-color: var(--fill-color);\n",
              "    }\n",
              "    60% {\n",
              "      border-color: transparent;\n",
              "      border-right-color: var(--fill-color);\n",
              "    }\n",
              "    80% {\n",
              "      border-color: transparent;\n",
              "      border-right-color: var(--fill-color);\n",
              "      border-bottom-color: var(--fill-color);\n",
              "    }\n",
              "    90% {\n",
              "      border-color: transparent;\n",
              "      border-bottom-color: var(--fill-color);\n",
              "    }\n",
              "  }\n",
              "</style>\n",
              "\n",
              "      <script>\n",
              "        async function quickchart(key) {\n",
              "          const quickchartButtonEl =\n",
              "            document.querySelector('#' + key + ' button');\n",
              "          quickchartButtonEl.disabled = true;  // To prevent multiple clicks.\n",
              "          quickchartButtonEl.classList.add('colab-df-spinner');\n",
              "          try {\n",
              "            const charts = await google.colab.kernel.invokeFunction(\n",
              "                'suggestCharts', [key], {});\n",
              "          } catch (error) {\n",
              "            console.error('Error during call to suggestCharts:', error);\n",
              "          }\n",
              "          quickchartButtonEl.classList.remove('colab-df-spinner');\n",
              "          quickchartButtonEl.classList.add('colab-df-quickchart-complete');\n",
              "        }\n",
              "        (() => {\n",
              "          let quickchartButtonEl =\n",
              "            document.querySelector('#df-dc080959-5a3e-49fb-9db3-90cd842fcfdb button');\n",
              "          quickchartButtonEl.style.display =\n",
              "            google.colab.kernel.accessAllowed ? 'block' : 'none';\n",
              "        })();\n",
              "      </script>\n",
              "    </div>\n",
              "\n",
              "    </div>\n",
              "  </div>\n"
            ],
            "application/vnd.google.colaboratory.intrinsic+json": {
              "type": "dataframe",
              "summary": "{\n  \"name\": \"df\",\n  \"rows\": 8,\n  \"fields\": [\n    {\n      \"column\": \"Issue_Size\",\n      \"properties\": {\n        \"dtype\": \"number\",\n        \"std\": 7179.731950395654,\n        \"min\": 0.0,\n        \"max\": 21000.0,\n        \"num_unique_values\": 8,\n        \"samples\": [\n          1192.8599686520379,\n          496.25,\n          319.0\n        ],\n        \"semantic_type\": \"\",\n        \"description\": \"\"\n      }\n    },\n    {\n      \"column\": \"Subscription_QIB\",\n      \"properties\": {\n        \"dtype\": \"number\",\n        \"std\": 119.68415904732683,\n        \"min\": 0.0,\n        \"max\": 319.0,\n        \"num_unique_values\": 8,\n        \"samples\": [\n          25.68413793103449,\n          4.94,\n          319.0\n        ],\n        \"semantic_type\": \"\",\n        \"description\": \"\"\n      }\n    },\n    {\n      \"column\": \"Subscription_HNI\",\n      \"properties\": {\n        \"dtype\": \"number\",\n        \"std\": 326.3026232361266,\n        \"min\": 0.0,\n        \"max\": 958.07,\n        \"num_unique_values\": 8,\n        \"samples\": [\n          70.09137931034483,\n          5.07,\n          319.0\n        ],\n        \"semantic_type\": \"\",\n        \"description\": \"\"\n      }\n    },\n    {\n      \"column\": \"Subscription_RII\",\n      \"properties\": {\n        \"dtype\": \"number\",\n        \"std\": 112.26084752837234,\n        \"min\": 0.0,\n        \"max\": 319.0,\n        \"num_unique_values\": 8,\n        \"samples\": [\n          8.561598746081504,\n          3.42,\n          319.0\n        ],\n        \"semantic_type\": \"\",\n        \"description\": \"\"\n      }\n    },\n    {\n      \"column\": \"Subscription_Total\",\n      \"properties\": {\n        \"dtype\": \"number\",\n        \"std\": 141.47771235347844,\n        \"min\": 0.0,\n        \"max\": 326.49,\n        \"num_unique_values\": 8,\n        \"samples\": [\n          27.447147335423196,\n          4.93,\n          319.0\n        ],\n        \"semantic_type\": \"\",\n        \"description\": \"\"\n      }\n    },\n    {\n      \"column\": \"Issue_Price\",\n      \"properties\": {\n        \"dtype\": \"number\",\n        \"std\": 681.3673221502085,\n        \"min\": 0.0,\n        \"max\": 2150.0,\n        \"num_unique_values\": 8,\n        \"samples\": [\n          375.12852664576803,\n          250.0,\n          319.0\n        ],\n        \"semantic_type\": \"\",\n        \"description\": \"\"\n      }\n    },\n    {\n      \"column\": \"Listing_Gains_Percent\",\n      \"properties\": {\n        \"dtype\": \"number\",\n        \"std\": 145.4827251486592,\n        \"min\": -97.15,\n        \"max\": 319.0,\n        \"num_unique_values\": 8,\n        \"samples\": [\n          4.742695924764891,\n          1.81,\n          319.0\n        ],\n        \"semantic_type\": \"\",\n        \"description\": \"\"\n      }\n    },\n    {\n      \"column\": \"Listing_Gains_Profit\",\n      \"properties\": {\n        \"dtype\": \"number\",\n        \"std\": 112.58003790992647,\n        \"min\": 0.0,\n        \"max\": 319.0,\n        \"num_unique_values\": 5,\n        \"samples\": [\n          0.5454545454545454,\n          1.0,\n          0.49871189137651684\n        ],\n        \"semantic_type\": \"\",\n        \"description\": \"\"\n      }\n    }\n  ]\n}"
            }
          },
          "metadata": {},
          "execution_count": 9
        }
      ]
    },
    {
      "cell_type": "code",
      "source": [
        "# Calculate the percentage of IPOs listed at a profit\n",
        "profit_percentage = (df['Listing_Gains_Profit'] == 1).mean() * 100\n",
        "print(f\"Percentage of IPOs listed at a profit: {profit_percentage:.2f}%\")"
      ],
      "metadata": {
        "colab": {
          "base_uri": "https://localhost:8080/",
          "height": 0
        },
        "id": "EVbyMlXr6w2d",
        "outputId": "75170b34-7212-4a8a-fd0b-b3403f717761"
      },
      "execution_count": 10,
      "outputs": [
        {
          "output_type": "stream",
          "name": "stdout",
          "text": [
            "Percentage of IPOs listed at a profit: 54.55%\n"
          ]
        }
      ]
    },
    {
      "cell_type": "markdown",
      "source": [
        "Approximately 54.55% of the IPOs listed at a profit based on the provided dataset."
      ],
      "metadata": {
        "id": "z8YGOfMj7kLo"
      }
    },
    {
      "cell_type": "markdown",
      "source": [
        "##**Data Visualization:**"
      ],
      "metadata": {
        "id": "_3cyfnbpSdqt"
      }
    },
    {
      "cell_type": "markdown",
      "source": [
        "**Visualization 1: Distribution of the target variable**"
      ],
      "metadata": {
        "id": "HMhrGl3aex9O"
      }
    },
    {
      "cell_type": "code",
      "source": [
        "# check the ditrsibution of the target variable\n",
        "plt.figure(figsize=(8, 6))\n",
        "sns.countplot(x = 'Listing_Gains_Profit', data = df)\n",
        "plt.title('Distribution of Listing Gains')\n",
        "plt.xlabel('Listing Gains')\n",
        "plt.ylabel('Count')\n",
        "plt.show()"
      ],
      "metadata": {
        "colab": {
          "base_uri": "https://localhost:8080/",
          "height": 564
        },
        "id": "JA-oQaZQ7b87",
        "outputId": "e10b356f-3f6d-4f20-d069-f039c939df5c"
      },
      "execution_count": 11,
      "outputs": [
        {
          "output_type": "display_data",
          "data": {
            "text/plain": [
              "<Figure size 800x600 with 1 Axes>"
            ],
            "image/png": "[encoded data removed]"
          },
          "metadata": {}
        }
      ]
    },
    {
      "cell_type": "markdown",
      "source": [
        "The countplot shows a slightly higher number of IPOs listed as a profit compared to no profit"
      ],
      "metadata": {
        "id": "ySh0MgyMR8-9"
      }
    },
    {
      "cell_type": "markdown",
      "source": [
        "**Visualization 2: Boxplots for continuous variable to check for outliers**"
      ],
      "metadata": {
        "id": "DsVEBSSfe3oS"
      }
    },
    {
      "cell_type": "code",
      "source": [
        "# List of continuous variables\n",
        "continuous_variables = ['Issue_Size' , 'Subscription_QIB', 'Subscription_HNI', 'Subscription_RII' , 'Subscription_Total', 'Issue_Price']\n",
        "\n",
        "# Define the size of the subplot grid\n",
        "num_rows = 2\n",
        "num_cols = 3\n",
        "\n",
        "# Create a new figure\n",
        "plt.figure(figsize=(12,8))\n",
        "\n",
        "# Loop through each continuous variable and create a boxplot\n",
        "for i, variable in enumerate(continuous_variables, 1):\n",
        "    plt.subplot(num_rows, num_cols, i)\n",
        "    sns.boxplot(x=variable, data=df)\n",
        "    plt.title(f'Boxplot of {variable}')\n",
        "    plt.xlabel(variable)\n",
        "\n",
        "# Adjust the layout and display the plot\n",
        "plt.tight_layout()\n",
        "plt.show()\n",
        "\n"
      ],
      "metadata": {
        "colab": {
          "base_uri": "https://localhost:8080/",
          "height": 807
        },
        "id": "TSrj_oWLQ53J",
        "outputId": "6f006671-71bb-4d63-ad1e-29f6698ff8fe"
      },
      "execution_count": 12,
      "outputs": [
        {
          "output_type": "display_data",
          "data": {
            "text/plain": [
              "<Figure size 1200x800 with 6 Axes>"
            ],
            "image/png": "[encoded data removed]"
          },
          "metadata": {}
        }
      ]
    },
    {
      "cell_type": "markdown",
      "source": [
        "We can see many outliers in here\n"
      ],
      "metadata": {
        "id": "rgybgcWUch21"
      }
    },
    {
      "cell_type": "markdown",
      "source": [
        "**Visualization 3: Relationship between predictor variables and target variable**"
      ],
      "metadata": {
        "id": "c_37A29ce6cS"
      }
    },
    {
      "cell_type": "code",
      "source": [
        "# List of predictor variables\n",
        "predictor_variables = ['Issue_Size' , 'Subscription_QIB', 'Subscription_HNI', 'Subscription_RII' , 'Subscription_Total', 'Issue_Price']\n",
        "\n",
        "# Define the size of the subplot grid\n",
        "num_rows = 2\n",
        "num_cols = 3\n",
        "\n",
        "plt.figure(figsize=(12,8))\n",
        "\n",
        "# Loop through each predictor variable and create a boxplot\n",
        "for i, var in enumerate(predictor_variables, start = 1):\n",
        "    plt.subplot(num_rows, num_cols, i)\n",
        "    sns.boxplot(x = 'Listing_Gains_Profit', y = var, data = df)\n",
        "    plt.title(f'{var} vs. Listing Gains')\n",
        "\n",
        "# Adjust layout and display the plot\n",
        "sns.despine()\n",
        "plt.tight_layout()\n",
        "plt.show()"
      ],
      "metadata": {
        "colab": {
          "base_uri": "https://localhost:8080/",
          "height": 807
        },
        "id": "Ftb6A1YXTqEX",
        "outputId": "61b57759-1a8d-456b-b806-0e30919bd40f"
      },
      "execution_count": 13,
      "outputs": [
        {
          "output_type": "display_data",
          "data": {
            "text/plain": [
              "<Figure size 1200x800 with 6 Axes>"
            ],
            "image/png": "[encoded data removed]"
          },
          "metadata": {}
        }
      ]
    },
    {
      "cell_type": "markdown",
      "source": [
        "Almost all of the predictor variables seems to have a seems to have a strong relationship with the target as we clearly see a higher median for profit cases."
      ],
      "metadata": {
        "id": "-YSNsW0R_5Ys"
      }
    },
    {
      "cell_type": "markdown",
      "source": [
        "**Visualization 4: Check if there are correlations between predictor variables**"
      ],
      "metadata": {
        "id": "l1trFNyd-_QQ"
      }
    },
    {
      "cell_type": "code",
      "source": [
        "df.dtypes"
      ],
      "metadata": {
        "colab": {
          "base_uri": "https://localhost:8080/",
          "height": 398
        },
        "id": "G4xemwDCAnW1",
        "outputId": "db9d1617-bae7-4094-8894-475e5407e574"
      },
      "execution_count": 14,
      "outputs": [
        {
          "output_type": "execute_result",
          "data": {
            "text/plain": [
              "Date                      object\n",
              "IPOName                   object\n",
              "Issue_Size               float64\n",
              "Subscription_QIB         float64\n",
              "Subscription_HNI         float64\n",
              "Subscription_RII         float64\n",
              "Subscription_Total       float64\n",
              "Issue_Price                int64\n",
              "Listing_Gains_Percent    float64\n",
              "Listing_Gains_Profit       int64\n",
              "dtype: object"
            ],
            "text/html": [
              "<div>\n",
              "<style scoped>\n",
              "    .dataframe tbody tr th:only-of-type {\n",
              "        vertical-align: middle;\n",
              "    }\n",
              "\n",
              "    .dataframe tbody tr th {\n",
              "        vertical-align: top;\n",
              "    }\n",
              "\n",
              "    .dataframe thead th {\n",
              "        text-align: right;\n",
              "    }\n",
              "</style>\n",
              "<table border=\"1\" class=\"dataframe\">\n",
              "  <thead>\n",
              "    <tr style=\"text-align: right;\">\n",
              "      <th></th>\n",
              "      <th>0</th>\n",
              "    </tr>\n",
              "  </thead>\n",
              "  <tbody>\n",
              "    <tr>\n",
              "      <th>Date</th>\n",
              "      <td>object</td>\n",
              "    </tr>\n",
              "    <tr>\n",
              "      <th>IPOName</th>\n",
              "      <td>object</td>\n",
              "    </tr>\n",
              "    <tr>\n",
              "      <th>Issue_Size</th>\n",
              "      <td>float64</td>\n",
              "    </tr>\n",
              "    <tr>\n",
              "      <th>Subscription_QIB</th>\n",
              "      <td>float64</td>\n",
              "    </tr>\n",
              "    <tr>\n",
              "      <th>Subscription_HNI</th>\n",
              "      <td>float64</td>\n",
              "    </tr>\n",
              "    <tr>\n",
              "      <th>Subscription_RII</th>\n",
              "      <td>float64</td>\n",
              "    </tr>\n",
              "    <tr>\n",
              "      <th>Subscription_Total</th>\n",
              "      <td>float64</td>\n",
              "    </tr>\n",
              "    <tr>\n",
              "      <th>Issue_Price</th>\n",
              "      <td>int64</td>\n",
              "    </tr>\n",
              "    <tr>\n",
              "      <th>Listing_Gains_Percent</th>\n",
              "      <td>float64</td>\n",
              "    </tr>\n",
              "    <tr>\n",
              "      <th>Listing_Gains_Profit</th>\n",
              "      <td>int64</td>\n",
              "    </tr>\n",
              "  </tbody>\n",
              "</table>\n",
              "</div><br><label><b>dtype:</b> object</label>"
            ]
          },
          "metadata": {},
          "execution_count": 14
        }
      ]
    },
    {
      "cell_type": "code",
      "source": [
        "#check correlation using heatmap\n",
        "numerical_var = df[['Issue_Size', 'Subscription_QIB', 'Subscription_HNI', 'Subscription_RII', 'Subscription_Total', 'Issue_Price', 'Listing_Gains_Percent', 'Listing_Gains_Profit']]\n",
        "plt.figure(figsize=(12, 8))\n",
        "sns.heatmap(numerical_var.corr(), annot=True, cmap='coolwarm')\n",
        "plt.title('Correlation Heatmap')\n",
        "plt.show()\n",
        "\n"
      ],
      "metadata": {
        "id": "YmmUSBeRfEhD",
        "colab": {
          "base_uri": "https://localhost:8080/",
          "height": 836
        },
        "outputId": "a21f7a8f-1d95-40aa-c844-bb80307146bd"
      },
      "execution_count": 16,
      "outputs": [
        {
          "output_type": "display_data",
          "data": {
            "text/plain": [
              "<Figure size 1200x800 with 2 Axes>"
            ],
            "image/png": "[encoded data removed]"
          },
          "metadata": {}
        }
      ]
    },
    {
      "cell_type": "markdown",
      "source": [
        "**Strong Positive Correlations:**\n",
        "\n",
        "\n",
        "*   There is notable strong positive correlation (0.95) between '**Subscription_Total**' and '**Subscription_HNI**', another strong positive correlation (0.82) betwwen '**Subscription_Total**' and '**Subscription_QBI**', and with positive correlation (0.72) between '**Subscription_Total**' and '**Subscription_RII**'.\n",
        "\n",
        "\n",
        "\n",
        "**Moderate Positive Correlations:**\n",
        "\n",
        "\n",
        "*   There is moderate positive correlation (0.67) between '**Listing_Gains_Percent**' and '**Listing_Gains_Profit**', another moderate positive correlations (0.62) between '**Subscription_RII**' and '**Subscription_HNI**', moderate positive correlations (0.44) between '**Subscription_RII**' and '**Subscription_QBI**'.\n",
        "\n",
        "\n",
        "\n",
        "\n"
      ],
      "metadata": {
        "id": "0tQTMhfxCEc0"
      }
    },
    {
      "cell_type": "markdown",
      "source": [
        "##**Outlier Treatment:**"
      ],
      "metadata": {
        "id": "Nx7IPEMbENCo"
      }
    },
    {
      "cell_type": "code",
      "source": [
        "numerical_variables = ['Issue_Size' , 'Subscription_QIB', 'Subscription_HNI', 'Subscription_RII' , 'Subscription_Total', 'Issue_Price']\n",
        "\n",
        "# Calculate skewness for each numerical variable\n",
        "skewness = df[numerical_variables].skew()\n",
        "\n",
        "# Compute IQR for all numerical variables\n",
        "Q1 = df[numerical_variables].quantile(0.25)\n",
        "Q3 = df[numerical_variables].quantile(0.75)\n",
        "IQR = Q3 - Q1\n"
      ],
      "metadata": {
        "id": "FZzzoLx-BalV"
      },
      "execution_count": 32,
      "outputs": []
    },
    {
      "cell_type": "code",
      "source": [
        "for var in numerical_variables:\n",
        "    lower_bound = Q1[var] - 1.5 * IQR[var]\n",
        "    upper_bound = Q3[var] + 1.5 * IQR[var]\n",
        "\n",
        "    num_lower = (df[var] < lower_bound).sum()\n",
        "    num_upper = (df[var] > upper_bound).sum()\n",
        "\n",
        "    print(f'{var}: {num_lower} values below lower bound, {num_upper} above upper bound')\n",
        "\n",
        "    df[var] = df[var].clip(lower=lower_bound, upper=upper_bound)"
      ],
      "metadata": {
        "colab": {
          "base_uri": "https://localhost:8080/",
          "height": 0
        },
        "id": "JT5EQvhKFWL5",
        "outputId": "5f8ba16a-a8e7-41ed-da45-4f1bed3bfa49"
      },
      "execution_count": 33,
      "outputs": [
        {
          "output_type": "stream",
          "name": "stdout",
          "text": [
            "Issue_Size: 0 values below lower bound, 0 above upper bound\n",
            "Subscription_QIB: 0 values below lower bound, 0 above upper bound\n",
            "Subscription_HNI: 0 values below lower bound, 0 above upper bound\n",
            "Subscription_RII: 0 values below lower bound, 0 above upper bound\n",
            "Subscription_Total: 0 values below lower bound, 0 above upper bound\n",
            "Issue_Price: 0 values below lower bound, 0 above upper bound\n"
          ]
        }
      ]
    },
    {
      "cell_type": "code",
      "source": [
        "#visualizing\n",
        "plt.figure(figsize=(12,8))\n",
        "df[numerical_variables].boxplot()\n",
        "plt.title('Boxplot of Numereical Variables (After Outlier Treatment)')\n",
        "plt.xticks(rotation=45)\n",
        "plt.show()"
      ],
      "metadata": {
        "colab": {
          "base_uri": "https://localhost:8080/",
          "height": 784
        },
        "id": "JIZjvjAcFpaL",
        "outputId": "ff048a97-a799-4981-ae28-e92ba3d82ba6"
      },
      "execution_count": 34,
      "outputs": [
        {
          "output_type": "display_data",
          "data": {
            "text/plain": [
              "<Figure size 1200x800 with 1 Axes>"
            ],
            "image/png": "[encoded data removed]"
          },
          "metadata": {}
        }
      ]
    },
    {
      "cell_type": "code",
      "source": [
        "print('Summary Statistics (After Outlier Treatment): \\n', df[numerical_variables].describe())"
      ],
      "metadata": {
        "colab": {
          "base_uri": "https://localhost:8080/",
          "height": 0
        },
        "id": "QzXBo0FLGBDR",
        "outputId": "2e504299-2e1f-40a2-99a6-fad4d6ed20fb"
      },
      "execution_count": 35,
      "outputs": [
        {
          "output_type": "stream",
          "name": "stdout",
          "text": [
            "Summary Statistics (After Outlier Treatment): \n",
            "         Issue_Size  Subscription_QIB  Subscription_HNI  Subscription_RII  \\\n",
            "count   319.000000        319.000000        319.000000        319.000000   \n",
            "mean    763.561238         21.521183         40.356426          6.060940   \n",
            "std     769.689122         29.104549         57.427921          6.176882   \n",
            "min       0.000000          0.000000          0.000000          0.000000   \n",
            "25%     169.005000          1.150000          1.255000          1.275000   \n",
            "50%     496.250000          4.940000          5.070000          3.420000   \n",
            "75%    1100.000000         34.635000         62.095000          8.605000   \n",
            "max    2496.492500         84.862500        153.355000         19.600000   \n",
            "\n",
            "       Subscription_Total  Issue_Price  \n",
            "count          319.000000   319.000000  \n",
            "mean            20.456646   362.147335  \n",
            "std             27.217740   312.272967  \n",
            "min              0.000000     0.000000  \n",
            "25%              1.645000   119.000000  \n",
            "50%              4.930000   250.000000  \n",
            "75%             33.395000   536.000000  \n",
            "max             81.020000  1161.500000  \n"
          ]
        }
      ]
    },
    {
      "cell_type": "markdown",
      "source": [
        "**Observation:**\n",
        "\n",
        "*   following the boxplot and summary statistics we can confimr that there are no outliers left also we can see relatively small standard deviation which indicate uniformity.\n",
        "\n",
        "\n",
        "\n"
      ],
      "metadata": {
        "id": "8Nw71VWgHDXf"
      }
    },
    {
      "cell_type": "markdown",
      "source": [
        "##**Setting the Target and Predictor Variables:**"
      ],
      "metadata": {
        "id": "lJFIoW_6KpJE"
      }
    },
    {
      "cell_type": "markdown",
      "source": [
        "**Create Arrays of Target and Predictor Variables**"
      ],
      "metadata": {
        "id": "Zb18LBdnLQ-7"
      }
    },
    {
      "cell_type": "code",
      "source": [
        "# Array of the target variable (dependent variable)\n",
        "target_variable = df['Listing_Gains_Profit'].values\n",
        "\n",
        "# Array of the predictor variables (independent variables)\n",
        "predictor_variable = df.drop(columns=['Listing_Gains_Profit', 'IPOName', 'Date '], axis=1).values"
      ],
      "metadata": {
        "id": "3fKzcaTmINeI"
      },
      "execution_count": 38,
      "outputs": []
    },
    {
      "cell_type": "markdown",
      "source": [
        "**Perform Normalization on Predictor Variables**"
      ],
      "metadata": {
        "id": "22zlB2VSLUok"
      }
    },
    {
      "cell_type": "code",
      "source": [
        "# Initialize the MinMaxScaler\n",
        "scaler = MinMaxScaler()\n",
        "\n",
        "# Perform normalization on predictor variables\n",
        "predictor_variables_normalized = scaler.fit_transform(predictor_variable)"
      ],
      "metadata": {
        "id": "df-yKq5mLLNP"
      },
      "execution_count": 39,
      "outputs": []
    },
    {
      "cell_type": "markdown",
      "source": [
        "**Summary Statistics after Normalization**"
      ],
      "metadata": {
        "id": "3J5ys0_GLn9J"
      }
    },
    {
      "cell_type": "code",
      "source": [
        "# Convert normalized predictor variable array back to DataFrame for summary statistics\n",
        "df_normalized = pd.DataFrame(predictor_variables_normalized, columns = df.columns[2:-1])\n",
        "\n",
        "# Summary statistics for normalized predictor variables\n",
        "print('Summary Statistics (After Normalization):')\n",
        "print(df_normalized.describe())"
      ],
      "metadata": {
        "colab": {
          "base_uri": "https://localhost:8080/",
          "height": 0
        },
        "id": "Px77Py5xLbvX",
        "outputId": "3bc30021-68a5-4928-b6df-69645817ce63"
      },
      "execution_count": 40,
      "outputs": [
        {
          "output_type": "stream",
          "name": "stdout",
          "text": [
            "Summary Statistics (After Normalization):\n",
            "       Issue_Size  Subscription_QIB  Subscription_HNI  Subscription_RII  \\\n",
            "count  319.000000        319.000000        319.000000        319.000000   \n",
            "mean     0.305854          0.253601          0.263157          0.309232   \n",
            "std      0.308308          0.342961          0.374477          0.315147   \n",
            "min      0.000000          0.000000          0.000000          0.000000   \n",
            "25%      0.067697          0.013551          0.008184          0.065051   \n",
            "50%      0.198779          0.058212          0.033061          0.174490   \n",
            "75%      0.440618          0.408131          0.404910          0.439031   \n",
            "max      1.000000          1.000000          1.000000          1.000000   \n",
            "\n",
            "       Subscription_Total  Issue_Price  Listing_Gains_Percent  \n",
            "count          319.000000   319.000000             319.000000  \n",
            "mean             0.252489     0.311793               0.277221  \n",
            "std              0.335939     0.268853               0.129645  \n",
            "min              0.000000     0.000000               0.000000  \n",
            "25%              0.020304     0.102454               0.232880  \n",
            "50%              0.060849     0.215239               0.269242  \n",
            "75%              0.412182     0.461472               0.333179  \n",
            "max              1.000000     1.000000               1.000000  \n"
          ]
        }
      ]
    },
    {
      "cell_type": "markdown",
      "source": [
        "from the summary statistics we can see the min and mix values for all the variables are 0 and 1, which confirms the nomralization was successful."
      ],
      "metadata": {
        "id": "MzaFOiVNMBqA"
      }
    },
    {
      "cell_type": "markdown",
      "source": [
        "##**Creating the Holdout Validation Approach**"
      ],
      "metadata": {
        "id": "gNbaRFHHMhjZ"
      }
    },
    {
      "cell_type": "code",
      "source": [
        "# Splitting dataset into training and testing sets\n",
        "X_train, X_test, y_train, y_test = train_test_split(predictor_variable, target_variable, test_size=0.2, random_state=666)"
      ],
      "metadata": {
        "id": "umTjPmUuL2OP"
      },
      "execution_count": 41,
      "outputs": []
    },
    {
      "cell_type": "code",
      "source": [
        "# Display shapes of Training and Testing sets\n",
        "print('Shape of Training set: ',X_train.shape, y_train.shape)\n",
        "print('Shape of Testing set: ',X_test.shape, y_test.shape)"
      ],
      "metadata": {
        "colab": {
          "base_uri": "https://localhost:8080/",
          "height": 0
        },
        "id": "Drrzg6jXNIt3",
        "outputId": "a2b47b84-1f57-4af9-e3ec-77f06b80096f"
      },
      "execution_count": 42,
      "outputs": [
        {
          "output_type": "stream",
          "name": "stdout",
          "text": [
            "Shape of Training set:  (255, 7) (255,)\n",
            "Shape of Testing set:  (64, 7) (64,)\n"
          ]
        }
      ]
    },
    {
      "cell_type": "markdown",
      "source": [
        "##**Define the Deep Learning Classification Model**"
      ],
      "metadata": {
        "id": "4hfra7aKNW2z"
      }
    },
    {
      "cell_type": "code",
      "source": [
        "#instantiate a model with keras sequantial api\n",
        "model = tf.keras.Sequential(name=\"sequential\")\n",
        "\n",
        "model.add(tf.keras.layers.Dense(32, input_shape=(X_train.shape[1],), activation='relu'))\n",
        "model.add(tf.keras.layers.Dense(16, activation='relu'))\n",
        "model.add(tf.keras.layers.Dense(8, activation='relu'))\n",
        "model.add(tf.keras.layers.Dense(4, activation='relu'))\n",
        "model.add(tf.keras.layers.Dense(1, activation = 'sigmoid'))"
      ],
      "metadata": {
        "id": "qtPAIUrLNLGX"
      },
      "execution_count": 43,
      "outputs": []
    },
    {
      "cell_type": "markdown",
      "source": [
        "##**Compiling and Training the Model**"
      ],
      "metadata": {
        "id": "2flXJOIUQ5mw"
      }
    },
    {
      "cell_type": "code",
      "source": [
        "optimizer = tf.keras.optimizers.Adam(learning_rate=0.001)\n",
        "model.compile(loss = 'binary_crossentropy', metrics = ['accuracy'], optimizer=optimizer)"
      ],
      "metadata": {
        "id": "3Yux31y0Q1mt"
      },
      "execution_count": 44,
      "outputs": []
    },
    {
      "cell_type": "code",
      "source": [
        "# Model summary\n",
        "model.summary()"
      ],
      "metadata": {
        "colab": {
          "base_uri": "https://localhost:8080/",
          "height": 306
        },
        "id": "ymHox-K3SKoF",
        "outputId": "bd19d644-9567-489e-ed8d-88552e17f738"
      },
      "execution_count": 45,
      "outputs": [
        {
          "output_type": "display_data",
          "data": {
            "text/plain": [
              "\u001b[1mModel: \"sequential\"\u001b[0m\n"
            ],
            "text/html": [
              "<pre style=\"white-space:pre;overflow-x:auto;line-height:normal;font-family:Menlo,'DejaVu Sans Mono',consolas,'Courier New',monospace\"><span style=\"font-weight: bold\">Model: \"sequential\"</span>\n",
              "</pre>\n"
            ]
          },
          "metadata": {}
        },
        {
          "output_type": "display_data",
          "data": {
            "text/plain": [
              "┏━━━━━━━━━━━━━━━━━━━━━━━━━━━━━━━━━┳━━━━━━━━━━━━━━━━━━━━━━━━┳━━━━━━━━━━━━━━━┓\n",
              "┃\u001b[1m \u001b[0m\u001b[1mLayer (type)                   \u001b[0m\u001b[1m \u001b[0m┃\u001b[1m \u001b[0m\u001b[1mOutput Shape          \u001b[0m\u001b[1m \u001b[0m┃\u001b[1m \u001b[0m\u001b[1m      Param #\u001b[0m\u001b[1m \u001b[0m┃\n",
              "┡━━━━━━━━━━━━━━━━━━━━━━━━━━━━━━━━━╇━━━━━━━━━━━━━━━━━━━━━━━━╇━━━━━━━━━━━━━━━┩\n",
              "│ dense (\u001b[38;5;33mDense\u001b[0m)                   │ (\u001b[38;5;45mNone\u001b[0m, \u001b[38;5;34m32\u001b[0m)             │           \u001b[38;5;34m256\u001b[0m │\n",
              "├─────────────────────────────────┼────────────────────────┼───────────────┤\n",
              "│ dense_1 (\u001b[38;5;33mDense\u001b[0m)                 │ (\u001b[38;5;45mNone\u001b[0m, \u001b[38;5;34m16\u001b[0m)             │           \u001b[38;5;34m528\u001b[0m │\n",
              "├─────────────────────────────────┼────────────────────────┼───────────────┤\n",
              "│ dense_2 (\u001b[38;5;33mDense\u001b[0m)                 │ (\u001b[38;5;45mNone\u001b[0m, \u001b[38;5;34m8\u001b[0m)              │           \u001b[38;5;34m136\u001b[0m │\n",
              "├─────────────────────────────────┼────────────────────────┼───────────────┤\n",
              "│ dense_3 (\u001b[38;5;33mDense\u001b[0m)                 │ (\u001b[38;5;45mNone\u001b[0m, \u001b[38;5;34m4\u001b[0m)              │            \u001b[38;5;34m36\u001b[0m │\n",
              "├─────────────────────────────────┼────────────────────────┼───────────────┤\n",
              "│ dense_4 (\u001b[38;5;33mDense\u001b[0m)                 │ (\u001b[38;5;45mNone\u001b[0m, \u001b[38;5;34m1\u001b[0m)              │             \u001b[38;5;34m5\u001b[0m │\n",
              "└─────────────────────────────────┴────────────────────────┴───────────────┘\n"
            ],
            "text/html": [
              "<pre style=\"white-space:pre;overflow-x:auto;line-height:normal;font-family:Menlo,'DejaVu Sans Mono',consolas,'Courier New',monospace\">┏━━━━━━━━━━━━━━━━━━━━━━━━━━━━━━━━━┳━━━━━━━━━━━━━━━━━━━━━━━━┳━━━━━━━━━━━━━━━┓\n",
              "┃<span style=\"font-weight: bold\"> Layer (type)                    </span>┃<span style=\"font-weight: bold\"> Output Shape           </span>┃<span style=\"font-weight: bold\">       Param # </span>┃\n",
              "┡━━━━━━━━━━━━━━━━━━━━━━━━━━━━━━━━━╇━━━━━━━━━━━━━━━━━━━━━━━━╇━━━━━━━━━━━━━━━┩\n",
              "│ dense (<span style=\"color: #0087ff; text-decoration-color: #0087ff\">Dense</span>)                   │ (<span style=\"color: #00d7ff; text-decoration-color: #00d7ff\">None</span>, <span style=\"color: #00af00; text-decoration-color: #00af00\">32</span>)             │           <span style=\"color: #00af00; text-decoration-color: #00af00\">256</span> │\n",
              "├─────────────────────────────────┼────────────────────────┼───────────────┤\n",
              "│ dense_1 (<span style=\"color: #0087ff; text-decoration-color: #0087ff\">Dense</span>)                 │ (<span style=\"color: #00d7ff; text-decoration-color: #00d7ff\">None</span>, <span style=\"color: #00af00; text-decoration-color: #00af00\">16</span>)             │           <span style=\"color: #00af00; text-decoration-color: #00af00\">528</span> │\n",
              "├─────────────────────────────────┼────────────────────────┼───────────────┤\n",
              "│ dense_2 (<span style=\"color: #0087ff; text-decoration-color: #0087ff\">Dense</span>)                 │ (<span style=\"color: #00d7ff; text-decoration-color: #00d7ff\">None</span>, <span style=\"color: #00af00; text-decoration-color: #00af00\">8</span>)              │           <span style=\"color: #00af00; text-decoration-color: #00af00\">136</span> │\n",
              "├─────────────────────────────────┼────────────────────────┼───────────────┤\n",
              "│ dense_3 (<span style=\"color: #0087ff; text-decoration-color: #0087ff\">Dense</span>)                 │ (<span style=\"color: #00d7ff; text-decoration-color: #00d7ff\">None</span>, <span style=\"color: #00af00; text-decoration-color: #00af00\">4</span>)              │            <span style=\"color: #00af00; text-decoration-color: #00af00\">36</span> │\n",
              "├─────────────────────────────────┼────────────────────────┼───────────────┤\n",
              "│ dense_4 (<span style=\"color: #0087ff; text-decoration-color: #0087ff\">Dense</span>)                 │ (<span style=\"color: #00d7ff; text-decoration-color: #00d7ff\">None</span>, <span style=\"color: #00af00; text-decoration-color: #00af00\">1</span>)              │             <span style=\"color: #00af00; text-decoration-color: #00af00\">5</span> │\n",
              "└─────────────────────────────────┴────────────────────────┴───────────────┘\n",
              "</pre>\n"
            ]
          },
          "metadata": {}
        },
        {
          "output_type": "display_data",
          "data": {
            "text/plain": [
              "\u001b[1m Total params: \u001b[0m\u001b[38;5;34m961\u001b[0m (3.75 KB)\n"
            ],
            "text/html": [
              "<pre style=\"white-space:pre;overflow-x:auto;line-height:normal;font-family:Menlo,'DejaVu Sans Mono',consolas,'Courier New',monospace\"><span style=\"font-weight: bold\"> Total params: </span><span style=\"color: #00af00; text-decoration-color: #00af00\">961</span> (3.75 KB)\n",
              "</pre>\n"
            ]
          },
          "metadata": {}
        },
        {
          "output_type": "display_data",
          "data": {
            "text/plain": [
              "\u001b[1m Trainable params: \u001b[0m\u001b[38;5;34m961\u001b[0m (3.75 KB)\n"
            ],
            "text/html": [
              "<pre style=\"white-space:pre;overflow-x:auto;line-height:normal;font-family:Menlo,'DejaVu Sans Mono',consolas,'Courier New',monospace\"><span style=\"font-weight: bold\"> Trainable params: </span><span style=\"color: #00af00; text-decoration-color: #00af00\">961</span> (3.75 KB)\n",
              "</pre>\n"
            ]
          },
          "metadata": {}
        },
        {
          "output_type": "display_data",
          "data": {
            "text/plain": [
              "\u001b[1m Non-trainable params: \u001b[0m\u001b[38;5;34m0\u001b[0m (0.00 B)\n"
            ],
            "text/html": [
              "<pre style=\"white-space:pre;overflow-x:auto;line-height:normal;font-family:Menlo,'DejaVu Sans Mono',consolas,'Courier New',monospace\"><span style=\"font-weight: bold\"> Non-trainable params: </span><span style=\"color: #00af00; text-decoration-color: #00af00\">0</span> (0.00 B)\n",
              "</pre>\n"
            ]
          },
          "metadata": {}
        }
      ]
    },
    {
      "cell_type": "markdown",
      "source": [
        "##**Model Evaluation**"
      ],
      "metadata": {
        "id": "VuF7rsTrVWZU"
      }
    },
    {
      "cell_type": "code",
      "source": [
        "model.fit(X_train, y_train, epochs=50, verbose=0)\n",
        "print(model.evaluate(X_train, y_train))\n",
        "\n",
        "\n"
      ],
      "metadata": {
        "colab": {
          "base_uri": "https://localhost:8080/",
          "height": 0
        },
        "id": "NMz0qom_SVgc",
        "outputId": "8e6f535d-155f-45bf-9eab-03ca6e2f509b"
      },
      "execution_count": 49,
      "outputs": [
        {
          "output_type": "stream",
          "name": "stdout",
          "text": [
            "\u001b[1m8/8\u001b[0m \u001b[32m━━━━━━━━━━━━━━━━━━━━\u001b[0m\u001b[37m\u001b[0m \u001b[1m0s\u001b[0m 5ms/step - accuracy: 0.9251 - loss: 0.1895 \n",
            "[0.18377120792865753, 0.9333333373069763]\n"
          ]
        }
      ]
    },
    {
      "cell_type": "code",
      "source": [
        "print(model.evaluate(X_test, y_test))"
      ],
      "metadata": {
        "colab": {
          "base_uri": "https://localhost:8080/",
          "height": 0
        },
        "id": "6GIEoskFVa04",
        "outputId": "adb95c64-4428-452d-ae7f-9660be4cdf05"
      },
      "execution_count": 50,
      "outputs": [
        {
          "output_type": "stream",
          "name": "stdout",
          "text": [
            "\u001b[1m2/2\u001b[0m \u001b[32m━━━━━━━━━━━━━━━━━━━━\u001b[0m\u001b[37m\u001b[0m \u001b[1m0s\u001b[0m 68ms/step - accuracy: 0.8542 - loss: 0.8603\n",
            "[0.6976857781410217, 0.859375]\n"
          ]
        }
      ]
    },
    {
      "cell_type": "markdown",
      "source": [
        "Compare the training and testing accuracies. If the training accuracy is significantly higher than than the testing accuracy, it might indicate Overfitting which we are facing in this case as we can see the training accuracy exceeds by 7% which might indicate mild overfitting"
      ],
      "metadata": {
        "id": "ktufCq8QXZ-7"
      }
    },
    {
      "cell_type": "markdown",
      "source": [
        "##**Adding more hidden layer to avoid Overfitting**"
      ],
      "metadata": {
        "id": "fgsAg2uDX36a"
      }
    },
    {
      "cell_type": "code",
      "source": [
        "model_2 = Sequential()\n",
        "\n",
        "model_2.add(Dense(64, activation='relu', input_shape=(X_train.shape[1],)))\n",
        "\n",
        "model_2.add(Dense(32, activation='relu', kernel_regularizer=regularizers.l2(0.01)))\n",
        "model_2.add(Dropout(0.2))\n",
        "model_2.add(Dense(16, activation='relu', kernel_regularizer=regularizers.l2(0.01)))\n",
        "\n",
        "model_2.add(Dense(1, activation='sigmoid'))\n",
        "\n",
        "model_2.compile(optimizer = 'adam', loss = 'binary_crossentropy', metrics = ['accuracy'])\n",
        "\n",
        "history = model_2.fit(X_train, y_train, epochs=50, verbose=0)\n"
      ],
      "metadata": {
        "id": "TZ4B3VNwXttp"
      },
      "execution_count": 52,
      "outputs": []
    },
    {
      "cell_type": "code",
      "source": [
        "# Evaluate the second model on train dataset\n",
        "train_loss_2, train_accuracy_2 = model_2.evaluate(X_train, y_train)\n",
        "print('Train Loss(Model 2): ',train_loss_2)\n",
        "print('Train Accuracy(Model 2): ',train_accuracy_2)"
      ],
      "metadata": {
        "colab": {
          "base_uri": "https://localhost:8080/",
          "height": 0
        },
        "id": "w6KMZ7o2YU5y",
        "outputId": "07a69233-1318-4ba6-ceb5-419b467db1f1"
      },
      "execution_count": 53,
      "outputs": [
        {
          "output_type": "stream",
          "name": "stdout",
          "text": [
            "\u001b[1m8/8\u001b[0m \u001b[32m━━━━━━━━━━━━━━━━━━━━\u001b[0m\u001b[37m\u001b[0m \u001b[1m0s\u001b[0m 6ms/step - accuracy: 0.9574 - loss: 0.5445  \n",
            "Train Loss(Model 2):  0.5488333702087402\n",
            "Train Accuracy(Model 2):  0.9607843160629272\n"
          ]
        }
      ]
    },
    {
      "cell_type": "code",
      "source": [
        "# Evaluate the model on train dataset\n",
        "test_loss_2, test_accuracy_2 = model_2.evaluate(X_test, y_test, verbose=0)\n",
        "print('Test Loss(Model 2): ',test_loss_2)\n",
        "print('Test Accuracy(Model 2): ',test_accuracy_2)"
      ],
      "metadata": {
        "colab": {
          "base_uri": "https://localhost:8080/",
          "height": 0
        },
        "id": "Mh4vwtGJYnGg",
        "outputId": "4a06db02-4c9d-4a43-fec8-75b28e7c8dfc"
      },
      "execution_count": 54,
      "outputs": [
        {
          "output_type": "stream",
          "name": "stdout",
          "text": [
            "Test Loss(Model 2):  0.7087894678115845\n",
            "Test Accuracy(Model 2):  0.890625\n"
          ]
        }
      ]
    },
    {
      "cell_type": "markdown",
      "source": [
        "#**Conclusion:**\n",
        "\n",
        "\n",
        "\n",
        "*   **Training Accuracy of model 1 : 93.33%**\n",
        "\n",
        "*   **Testing Accuracy of model 1 : 85.93%**\n",
        "\n",
        "Which is okay but might indicate mild overfitting.\n",
        "\n",
        "To avoid this I have added more hidden layers and trained model 2,\n",
        "\n",
        "\n",
        "*   **Training Accuracy of model 2 : 96%**\n",
        "*   **Testing Accuracy of model 2 : 89%**\n",
        "\n",
        "Turns out it might still overfit but **testing accuracy in model 2 increased by 3.07%**\n",
        "\n",
        "\n"
      ],
      "metadata": {
        "id": "36s6zVh-Yy4E"
      }
    },
    {
      "cell_type": "code",
      "source": [
        "\n",
        "predictor_variables = ['Issue_Size' , 'Subscription_QIB', 'Subscription_HNI', 'Subscription_RII' , 'Subscription_Total', 'Issue_Price']\n",
        "\n",
        "# Define the size of the subplot grid\n",
        "num_rows = 2\n",
        "num_cols = 3\n",
        "\n",
        "plt.figure(figsize=(12,8))\n",
        "\n",
        "# Loop through each predictor variable and create a boxplot\n",
        "for i, var in enumerate(predictor_variables, start = 1):\n",
        "    plt.subplot(num_rows, num_cols, i)\n",
        "    sns.boxplot(x = 'Listing_Gains_Profit', y = var, data = df)\n",
        "    plt.title(f'{var} vs. Listing Gains')\n",
        "\n",
        "# Adjust layout and display the plot\n",
        "sns.despine()\n",
        "plt.tight_layout()\n",
        "plt.show()# List of predictor variables\n",
        "predictor_variables = ['Issue_Size' , 'Subscription_QIB', 'Subscription_HNI', 'Subscription_RII' , 'Subscription_Total', 'Issue_Price']\n",
        "\n",
        "# Define the size of the subplot grid\n",
        "num_rows = 2\n",
        "num_cols = 3\n",
        "\n",
        "plt.figure(figsize=(12,8))\n",
        "\n",
        "# Loop through each predictor variable and create a boxplot\n",
        "for i, var in enumerate(predictor_variables, start = 1):\n",
        "    plt.subplot(num_rows, num_cols, i)\n",
        "    sns.boxplot(x = 'Listing_Gains_Profit', y = var, data = df)\n",
        "    plt.title(f'{var} vs. Listing Gains')\n",
        "\n"
      ],
      "metadata": {
        "id": "DpdggTiha4FI"
      },
      "execution_count": null,
      "outputs": []
    }
  ]
}